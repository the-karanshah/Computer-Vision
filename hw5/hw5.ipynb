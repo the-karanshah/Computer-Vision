{
 "cells": [
  {
   "cell_type": "markdown",
   "metadata": {
    "colab_type": "text",
    "id": "AcamCuuyjYb2"
   },
   "source": [
    "# Action Recognition @ UCF101  \n",
    "**Due date: 11:59 pm on Nov. 19, 2019 (Tuesday)**\n",
    "\n",
    "## Description\n",
    "---\n",
    "In this homework, you will be doing action recognition using Recurrent Neural Network (RNN), (Long-Short Term Memory) LSTM in particular. You will be given a dataset called UCF101, which consists of 101 different actions/classes and for each action, there will be 145 samples. We tagged each sample into either training or testing. Each sample is supposed to be a short video, but we sampled 25 frames from each videos to reduce the amount of data. Consequently, a training sample is an image tuple that forms a 3D volume with one dimension encoding *temporal correlation* between frames and a label indicating what action it is.\n",
    "\n",
    "To tackle this problem, we aim to build a neural network that can not only capture spatial information of each frame but also temporal information between frames. Fortunately, you don't have to do this on your own. RNN — a type of neural network designed to deal with time-series data — is right here for you to use. In particular, you will be using LSTM for this task.\n",
    "\n",
    "Instead of training an end-to-end neural network from scratch whose computation is prohibitively expensive, we divide this into two steps: feature extraction and modelling. Below are the things you need to implement for this homework:\n",
    "- **{35 pts} Feature extraction**. Use any of the [pre-trained models](https://pytorch.org/docs/stable/torchvision/models.html) to extract features from each frame. Specifically, we recommend not to use the activations of the last layer as the features tend to be task specific towards the end of the network. \n",
    "    **hints**: \n",
    "    - A good starting point would be to use a pre-trained VGG16 network, we suggest first fully connected layer `torchvision.models.vgg16` (4096 dim) as features of each video frame. This will result into a 4096x25 matrix for each video. \n",
    "    - Normalize your images using `torchvision.transforms` \n",
    "    ```\n",
    "    normalize = transforms.Normalize(mean=[0.485, 0.456, 0.406], std=[0.229, 0.224, 0.225])\n",
    "    prep = transforms.Compose([ transforms.ToTensor(), normalize ])\n",
    "    prep(img)\n",
    "    The mean and std. mentioned above is specific to Imagenet data\n",
    "    \n",
    "    ```\n",
    "    More details of image preprocessing in PyTorch can be found at http://pytorch.org/tutorials/beginner/data_loading_tutorial.html\n",
    "    \n",
    "- **{35 pts} Modelling**. With the extracted features, build an LSTM network which takes a **dx25** sample as input (where **d** is the dimension of the extracted feature for each frame), and outputs the action label of that sample.\n",
    "- **{20 pts} Evaluation**. After training your network, you need to evaluate your model with the testing data by computing the prediction accuracy **(5 points)**. The baseline test accuracy for this data is 75%, and **10 points** out of 20 is for achieving test accuracy greater than the baseline. Moreover, you need to compare **(5 points)** the result of your network with that of support vector machine (SVM) (stacking the **dx25** feature matrix to a long vector and train a SVM).\n",
    "- **{10 pts} Report**. Details regarding the report can be found in the submission section below.\n",
    "\n",
    "Notice that the size of the raw images is 256x340, whereas your pre-trained model might take **nxn** images as inputs. To solve this problem, instead of resizing the images which unfavorably changes the spatial ratio, we take a better solution: Cropping five **nxn** images, one at the image center and four at the corners and compute the **d**-dim features for each of them, and average these five **d**-dim feature to get a final feature representation for the raw image.\n",
    "For example, VGG takes 224x224 images as inputs, so we take the five 224x224 croppings of the image, compute 4096-dim VGG features for each of them, and then take the mean of these five 4096-dim vectors to be the representation of the image.\n",
    "\n",
    "In order to save you computational time, you need to do the classification task only for **the first 25** classes of the whole dataset. The same applies to those who have access to GPUs. **Bonus 10 points for running and reporting on the entire 101 classes.**\n",
    "\n",
    "\n",
    "## Dataset\n",
    "Download **dataset** at [UCF101](http://vision.cs.stonybrook.edu/~yangwang/public/UCF101_images.tar)(Image data for each video) and the **annos folder** which has the video labels and the label to class name mapping is included in the assignment folder uploaded. \n",
    "\n",
    "\n",
    "UCF101 dataset contains 101 actions and 13,320 videos in total.  \n",
    "\n",
    "+ `annos/actions.txt`  \n",
    "  + lists all the actions (`ApplyEyeMakeup`, .., `YoYo`)   \n",
    "  \n",
    "+ `annots/videos_labels_subsets.txt`  \n",
    "  + lists all the videos (`v_000001`, .., `v_013320`)  \n",
    "  + labels (`1`, .., `101`)  \n",
    "  + subsets (`1` for train, `2` for test)  \n",
    "\n",
    "+ `images/`  \n",
    "  + each folder represents a video\n",
    "  + the video/folder name to class mapping can be found using `annots/videos_labels_subsets.txt`, for e.g. `v_000001` belongs to class 1 i.e. `ApplyEyeMakeup`\n",
    "  + each video folder contains 25 frames  \n",
    "\n",
    "\n",
    "\n",
    "## Some Tutorials\n",
    "- Good materials for understanding RNN and LSTM\n",
    "    - http://blog.echen.me\n",
    "    - http://karpathy.github.io/2015/05/21/rnn-effectiveness/\n",
    "    - http://colah.github.io/posts/2015-08-Understanding-LSTMs/\n",
    "- Implementing RNN and LSTM with PyTorch\n",
    "    - [LSTM with PyTorch](http://pytorch.org/tutorials/beginner/nlp/sequence_models_tutorial.html#sphx-glr-beginner-nlp-sequence-models-tutorial-py)\n",
    "    - [RNN with PyTorch](http://pytorch.org/tutorials/intermediate/char_rnn_classification_tutorial.html)"
   ]
  },
  {
   "cell_type": "code",
   "execution_count": 0,
   "metadata": {
    "colab": {},
    "colab_type": "code",
    "id": "ToPUeRSJRA9u"
   },
   "outputs": [],
   "source": [
    "# write your codes here\n",
    "import torch\n",
    "import torch.nn as nn\n",
    "import torch.nn.functional as F\n",
    "import torch.optim as optim\n",
    "import torchvision\n",
    "from torchvision import transforms, models\n",
    "import numpy as np\n",
    "import scipy as sp\n",
    "import pandas as pd\n",
    "from cv2 import imread\n",
    "from scipy.io import savemat, loadmat\n",
    "import os, glob, time, random, cv2"
   ]
  },
  {
   "cell_type": "code",
   "execution_count": 3,
   "metadata": {
    "colab": {
     "base_uri": "https://localhost:8080/",
     "height": 34
    },
    "colab_type": "code",
    "executionInfo": {
     "elapsed": 3302,
     "status": "ok",
     "timestamp": 1574327564449,
     "user": {
      "displayName": "Karan Shah",
      "photoUrl": "",
      "userId": "13222403758212753747"
     },
     "user_tz": 300
    },
    "id": "_NMXpe77RC7s",
    "outputId": "bd57ffb3-d440-4fdc-c9f3-716370f54fce"
   },
   "outputs": [
    {
     "name": "stdout",
     "output_type": "stream",
     "text": [
      "Mounted at /content/gdrive\n"
     ]
    }
   ],
   "source": [
    "# Mount your google drive where you've saved your assignment folder\n",
    "from google.colab import drive\n",
    "drive.mount('/content/gdrive', force_remount=True)"
   ]
  },
  {
   "cell_type": "code",
   "execution_count": 0,
   "metadata": {
    "colab": {},
    "colab_type": "code",
    "id": "P2D39JeGafVS"
   },
   "outputs": [],
   "source": [
    "# import tarfile\n",
    "# fname = 'images/UCF101_images.tar'\n",
    "# if (fname.endswith(\"tar.gz\")):\n",
    "#     tar = tarfile.open(fname, \"r:gz\")\n",
    "#     tar.extractall()\n",
    "#     tar.close()\n",
    "# elif (fname.endswith(\"tar\")):\n",
    "#     tar = tarfile.open(fname, \"r:\")\n",
    "#     tar.extractall()\n",
    "#     tar.close()"
   ]
  },
  {
   "cell_type": "code",
   "execution_count": 0,
   "metadata": {
    "colab": {},
    "colab_type": "code",
    "id": "y_6bZ-Ji3Y81"
   },
   "outputs": [],
   "source": [
    "# fname = 'temp.zip'\n",
    "\n",
    "# import zipfile\n",
    "# with zipfile.ZipFile(fname, 'r') as zip_ref:\n",
    "#     zip_ref.extractall()"
   ]
  },
  {
   "cell_type": "code",
   "execution_count": 0,
   "metadata": {
    "colab": {},
    "colab_type": "code",
    "id": "fsXp6RHqWdzJ"
   },
   "outputs": [],
   "source": [
    "device = torch.device(\"cuda:0\" if torch.cuda.is_available() else \"cpu\")"
   ]
  },
  {
   "cell_type": "code",
   "execution_count": 0,
   "metadata": {
    "colab": {},
    "colab_type": "code",
    "id": "WweXBtzgiO13"
   },
   "outputs": [],
   "source": [
    "info = pd.read_csv('annos/videos_labels_subsets.txt', header=None, delimiter='\\t')"
   ]
  },
  {
   "cell_type": "code",
   "execution_count": 0,
   "metadata": {
    "colab": {},
    "colab_type": "code",
    "id": "dpmmTRuCR9Ol"
   },
   "outputs": [],
   "source": [
    "def tile_image(img, tile_size=(224, 224)):\n",
    "    return (img[:, :tile_size[0], :tile_size[1]], img[:, (img.shape[1]-tile_size[0]):, :tile_size[1]], \n",
    "            img[:, :tile_size[0], (img.shape[2]-tile_size[1]):],\n",
    "            img[:, (img.shape[1]-tile_size[0]):, (img.shape[2]-tile_size[1]):], \n",
    "            img[:, (img.shape[1]-tile_size[0])//2:(img.shape[1]+tile_size[0])//2, (img.shape[2]-tile_size[1])//2:(img.shape[2]+tile_size[1])//2])"
   ]
  },
  {
   "cell_type": "markdown",
   "metadata": {
    "colab_type": "text",
    "id": "UdCRwkL7jxtc"
   },
   "source": [
    "---\n",
    "---\n",
    "## **Problem 1.** Feature extraction"
   ]
  },
  {
   "cell_type": "code",
   "execution_count": 0,
   "metadata": {
    "colab": {},
    "colab_type": "code",
    "id": "urKQi8oAjYb-"
   },
   "outputs": [],
   "source": [
    "# \\*write your codes for feature extraction (You can use multiple cells, this is just a place holder)\n"
   ]
  },
  {
   "cell_type": "code",
   "execution_count": 5,
   "metadata": {
    "colab": {
     "base_uri": "https://localhost:8080/",
     "height": 52
    },
    "colab_type": "code",
    "executionInfo": {
     "elapsed": 17602,
     "status": "ok",
     "timestamp": 1574293969330,
     "user": {
      "displayName": "Karan Shah",
      "photoUrl": "",
      "userId": "13222403758212753747"
     },
     "user_tz": 300
    },
    "id": "Ht5xWSoCRVi-",
    "outputId": "73b74bf2-3eee-4879-d25f-329d4b466386"
   },
   "outputs": [
    {
     "name": "stderr",
     "output_type": "stream",
     "text": [
      "Downloading: \"https://download.pytorch.org/models/vgg16-397923af.pth\" to /root/.cache/torch/checkpoints/vgg16-397923af.pth\n",
      "100%|██████████| 528M/528M [00:08<00:00, 61.9MB/s]\n"
     ]
    }
   ],
   "source": [
    "vgg16 = models.vgg16(True).to(device)\n",
    "del vgg16.classifier[2:]\n",
    "normalize = transforms.Normalize(mean=[0.485, 0.456, 0.406], std=[0.229, 0.224, 0.225])\n",
    "prep = transforms.Compose([ transforms.ToTensor(), normalize ])\n"
   ]
  },
  {
   "cell_type": "code",
   "execution_count": 0,
   "metadata": {
    "colab": {},
    "colab_type": "code",
    "id": "4z-IlOD1jTKJ"
   },
   "outputs": [],
   "source": [
    "nclasses = 25\n",
    "classes = info[1].unique()[:nclasses]\n",
    "\n",
    "train_folders_names = []\n",
    "test_folders_names = []\n",
    "train_labels = []\n",
    "test_labels = []\n",
    "\n",
    "for classindex in classes:\n",
    "    train_folders = info[(info[1] == classindex) & (info[2] == 1)][0].tolist()\n",
    "    train_folders_names.extend(train_folders)\n",
    "    \n",
    "    test_folders = info[(info[1] == classindex) & (info[2] == 2)][0].tolist()\n",
    "    test_folders_names.extend(test_folders)\n",
    "    \n",
    "    train_labels.extend(np.repeat(classindex, len(train_folders)))\n",
    "    test_labels.extend(np.repeat(classindex, len(test_folders)))"
   ]
  },
  {
   "cell_type": "code",
   "execution_count": 0,
   "metadata": {
    "colab": {},
    "colab_type": "code",
    "id": "zk9fXzJF3KWO"
   },
   "outputs": [],
   "source": [
    "def extract_save(folders, mode, source = 'images', target = 'temp'):\n",
    "    flag = 0\n",
    "    total = len(folders)\n",
    "    train_data = np.array([])\n",
    "    \n",
    "    start = time.time()\n",
    "    for i, folder in enumerate(folders):\n",
    "        \n",
    "        if os.path.exists(os.path.join(target, mode, folder+'.mat')):\n",
    "            # print('skipping', folder+'.mat')\n",
    "            continue\n",
    "        flag = 1                \n",
    "        features = []\n",
    "        for f in os.listdir(os.path.join(source, folder)):\n",
    "\n",
    "            fname = os.path.join(source, folder, f)\n",
    "            print(imread(fname).min())\n",
    "            img = prep(imread(fname)).to(device)\n",
    "            print(img.min())\n",
    "            with torch.no_grad():\n",
    "                print(torch.stack(tile_image(img)).shape)\n",
    "                import sys\n",
    "                sys.exit()\n",
    "                img = vgg16(torch.stack(tile_image(img)))\n",
    "                features.append(img.mean(dim=0).cpu()[...,np.newaxis])\n",
    "                \n",
    "        features = np.concatenate(features, axis=-1)\n",
    "        # savemat(os.path.join(target, mode, folder+'.mat'), {'Feature':features})\n",
    "        \n",
    "    if flag != 1:\n",
    "        print(\"Nothing new!\")\n",
    "    print('total time', time.time() - start)"
   ]
  },
  {
   "cell_type": "code",
   "execution_count": 10,
   "metadata": {
    "colab": {
     "base_uri": "https://localhost:8080/",
     "height": 52
    },
    "colab_type": "code",
    "executionInfo": {
     "elapsed": 2512,
     "status": "ok",
     "timestamp": 1574327586458,
     "user": {
      "displayName": "Karan Shah",
      "photoUrl": "",
      "userId": "13222403758212753747"
     },
     "user_tz": 300
    },
    "id": "SlWLDIOy3KWR",
    "outputId": "186333be-36a7-4ecd-de6f-705614c295cc"
   },
   "outputs": [
    {
     "name": "stdout",
     "output_type": "stream",
     "text": [
      "Nothing new!\n",
      "total time 1.913640022277832\n"
     ]
    }
   ],
   "source": [
    "extract_save(source = 'images', target = 'temp', folders = train_folders_names, mode = 'train')"
   ]
  },
  {
   "cell_type": "code",
   "execution_count": 0,
   "metadata": {
    "colab": {
     "base_uri": "https://localhost:8080/",
     "height": 52
    },
    "colab_type": "code",
    "executionInfo": {
     "elapsed": 7476,
     "status": "ok",
     "timestamp": 1573969572640,
     "user": {
      "displayName": "Karan Shah",
      "photoUrl": "",
      "userId": "13222403758212753747"
     },
     "user_tz": 300
    },
    "id": "PqPI4QYs3KWW",
    "outputId": "99e85165-a1d1-4728-ba8b-54c7fac24f6e"
   },
   "outputs": [
    {
     "name": "stdout",
     "output_type": "stream",
     "text": [
      "Nothing new!\n",
      "total time 1.7258226871490479\n"
     ]
    }
   ],
   "source": [
    "extract_save(source = 'images', target = 'temp', folders = test_folders_names, mode = 'test')"
   ]
  },
  {
   "cell_type": "code",
   "execution_count": 0,
   "metadata": {
    "colab": {},
    "colab_type": "code",
    "id": "CxzwJfF33KWa"
   },
   "outputs": [],
   "source": [
    "target = 'temp'\n",
    "def load_data(folders, mode):\n",
    "    data = []\n",
    "    for i, folder in enumerate(folders):\n",
    "        if i%1000==0:\n",
    "          print(i)\n",
    "        features = loadmat(os.path.join(target, mode, folder+'.mat'))['Feature']\n",
    "        data.append(features)\n",
    "    return np.array(data)"
   ]
  },
  {
   "cell_type": "code",
   "execution_count": 0,
   "metadata": {
    "colab": {},
    "colab_type": "code",
    "id": "lPAgwz1n3KWc"
   },
   "outputs": [],
   "source": [
    "train_data = load_data(train_folders_names, 'train')"
   ]
  },
  {
   "cell_type": "code",
   "execution_count": 0,
   "metadata": {
    "colab": {},
    "colab_type": "code",
    "id": "NoGnCqAU3KWe"
   },
   "outputs": [],
   "source": [
    "test_data = load_data(test_folders_names, 'test')"
   ]
  },
  {
   "cell_type": "markdown",
   "metadata": {
    "colab_type": "text",
    "id": "UN74WLWpl7zQ"
   },
   "source": [
    "***\n",
    "***\n",
    "## **Problem 2.** Modelling"
   ]
  },
  {
   "cell_type": "markdown",
   "metadata": {
    "colab_type": "text",
    "id": "Do5OSV9Mnmwy"
   },
   "source": [
    "* ##### **Print the size of your training and test data**"
   ]
  },
  {
   "cell_type": "code",
   "execution_count": 11,
   "metadata": {
    "colab": {
     "base_uri": "https://localhost:8080/",
     "height": 52
    },
    "colab_type": "code",
    "executionInfo": {
     "elapsed": 1923013,
     "status": "ok",
     "timestamp": 1574295927796,
     "user": {
      "displayName": "Karan Shah",
      "photoUrl": "",
      "userId": "13222403758212753747"
     },
     "user_tz": 300
    },
    "id": "0EGU31IJn5_h",
    "outputId": "3fa8034a-5ef6-4c66-96df-33c3517696b5"
   },
   "outputs": [
    {
     "name": "stdout",
     "output_type": "stream",
     "text": [
      "Shape of training data is : (2409, 4096, 25)\n",
      "Shape of test/validation data is : (951, 4096, 25)\n"
     ]
    }
   ],
   "source": [
    "# Don't hardcode the shape of train and test data\n",
    "print('Shape of training data is :', np.array(train_data).shape)\n",
    "print('Shape of test/validation data is :', np.array(test_data).shape)"
   ]
  },
  {
   "cell_type": "code",
   "execution_count": 0,
   "metadata": {
    "colab": {},
    "colab_type": "code",
    "id": "tAbI74mm3KWl"
   },
   "outputs": [],
   "source": [
    "def evaluate(model, data, labels):\n",
    "    with torch.no_grad():\n",
    "        correct = 0\n",
    "        total = 0\n",
    "        for video, labels in zip(data, labels):\n",
    "            video, labels = torch.tensor(video).to(device), labels\n",
    "            outputs = model(video).cpu()\n",
    "            predicted = np.argmax(outputs.numpy())\n",
    "            total += 1\n",
    "\n",
    "            correct += (predicted == labels-1).sum().item()\n",
    "    return 100 * correct / total"
   ]
  },
  {
   "cell_type": "code",
   "execution_count": 0,
   "metadata": {
    "colab": {},
    "colab_type": "code",
    "id": "7cWbiAWR3KWo"
   },
   "outputs": [],
   "source": [
    "# \\*write your codes for modelling using the extracted feature (You can use multiple cells, this is just a place holder)\n",
    "\n",
    "def train_model(num_hidden, n_layers, epochs, drop_prob, lr, train_data, train_labels, test_data, test_labels):\n",
    "    num_subclass = nclasses\n",
    "    class LSTMAction(nn.Module):\n",
    "        def __init__(self, feature_dim, hidden_dim, action_size, drop_prob=drop_prob):\n",
    "            super(LSTMAction, self).__init__()\n",
    "            self.hidden_dim = hidden_dim\n",
    "            self.lstm = nn.LSTM(feature_dim, hidden_dim, n_layers) #, dropout = drop_prob\n",
    "            self.final = nn.Linear(hidden_dim, action_size)\n",
    "            self.hidden = self.init_hidden()\n",
    "\n",
    "        def init_hidden(self):\n",
    "            return (torch.zeros(n_layers, 1, self.hidden_dim).to(device),\n",
    "                        torch.zeros(n_layers, 1, self.hidden_dim).to(device))\n",
    "\n",
    "        def forward(self, video):\n",
    "            lstm_out, self.hidden = self.lstm(video.view(25, 1, -1), self.hidden)\n",
    "            output = self.final(self.hidden[-1])\n",
    "            return output\n",
    "        # def __init__(self, feature_dim, num_hidden, nclasses, drop_prob=drop_prob):\n",
    "        #     super(LSTMAction, self).__init__()\n",
    "        #     self.num_hidden = num_hidden\n",
    "        #     self.lstm = nn.LSTM(feature_dim, num_hidden, n_layers, dropout = drop_prob) #\n",
    "        #     self.dense = nn.Linear(num_hidden, 512)\n",
    "        #     self.final = nn.Linear(512, nclasses)\n",
    "        #     self.hidden = self.init_hidden()\n",
    "\n",
    "        # def init_hidden(self):\n",
    "        #     return (torch.zeros(n_layers, 1, self.num_hidden).to(device),\n",
    "        #                 torch.zeros(n_layers, 1, self.num_hidden).to(device))\n",
    "\n",
    "        # def forward(self, video):\n",
    "        #     lstm_out, self.hidden = self.lstm(video.view(25, 1, -1), self.hidden)\n",
    "        #     output = self.final(self.dense(F.relu(self.hidden[0])))\n",
    "        #     return output\n",
    "\n",
    "    train = ()\n",
    "    model = LSTMAction(4096, num_hidden, num_subclass)\n",
    "\n",
    "    loss_function = nn.CrossEntropyLoss()\n",
    "    optimizer = optim.SGD(model.parameters(), lr=lr, momentum=0.09)\n",
    "    model.to(device)\n",
    "    model(torch.tensor(train_data[0]).to(device))\n",
    "\n",
    "    print(\"Training started!\")\n",
    "    for epoch in range(epochs):\n",
    "\n",
    "        c = list(zip(train_data, train_labels))\n",
    "        random.shuffle(c)\n",
    "        train_data, train_labels = zip(*c)\n",
    "\n",
    "        for data, label in zip(train_data, train_labels):\n",
    "            model.zero_grad()\n",
    "            model.hidden = model.init_hidden()\n",
    "\n",
    "            label = torch.tensor(label-1)\n",
    "            data, label = torch.tensor(data).to(device), label.to(device)\n",
    "            tag_scores = model(data)\n",
    "            loss = loss_function(tag_scores.view(1, n_layers * num_subclass), label.view(1))\n",
    "            loss.backward()\n",
    "            optimizer.step()\n",
    "        train_acc = evaluate(model, train_data, train_labels)\n",
    "        val_acc   = evaluate(model, test_data, test_labels)\n",
    "        print('Epoch %d => train acc: %d, val acc: %d %%' % (epoch+1, train_acc, val_acc))\n",
    "    print(\"Training completed!\")\n",
    "    return model"
   ]
  },
  {
   "cell_type": "code",
   "execution_count": 0,
   "metadata": {
    "colab": {
     "base_uri": "https://localhost:8080/",
     "height": 228
    },
    "colab_type": "code",
    "executionInfo": {
     "elapsed": 217357,
     "status": "ok",
     "timestamp": 1573975604630,
     "user": {
      "displayName": "Karan Shah",
      "photoUrl": "",
      "userId": "13222403758212753747"
     },
     "user_tz": 300
    },
    "id": "IFBCbZq13KWt",
    "outputId": "c328d04f-a55c-4a08-b1e7-a79e49fa0e9e"
   },
   "outputs": [
    {
     "name": "stdout",
     "output_type": "stream",
     "text": [
      "Training started!\n",
      "Epoch 1 => train acc: 79, val acc: 63 %\n",
      "Epoch 2 => train acc: 94, val acc: 72 %\n",
      "Epoch 3 => train acc: 98, val acc: 75 %\n",
      "Epoch 4 => train acc: 99, val acc: 75 %\n",
      "Epoch 5 => train acc: 100, val acc: 76 %\n",
      "Epoch 6 => train acc: 100, val acc: 76 %\n",
      "Epoch 7 => train acc: 100, val acc: 77 %\n",
      "Epoch 8 => train acc: 100, val acc: 78 %\n",
      "Epoch 9 => train acc: 100, val acc: 78 %\n",
      "Epoch 10 => train acc: 100, val acc: 78 %\n",
      "Training completed!\n"
     ]
    }
   ],
   "source": [
    "num_hidden = 64\n",
    "n_layers = 3\n",
    "epochs = 10\n",
    "drop_prob = 0.5\n",
    "lr = 0.01\n",
    "model25 = train_model(num_hidden, n_layers, epochs, drop_prob, lr, train_data, train_labels, test_data, test_labels)"
   ]
  },
  {
   "cell_type": "code",
   "execution_count": 25,
   "metadata": {
    "colab": {
     "base_uri": "https://localhost:8080/",
     "height": 228
    },
    "colab_type": "code",
    "executionInfo": {
     "elapsed": 203427,
     "status": "ok",
     "timestamp": 1574297704442,
     "user": {
      "displayName": "Karan Shah",
      "photoUrl": "",
      "userId": "13222403758212753747"
     },
     "user_tz": 300
    },
    "id": "tDgv5Y1VYKxk",
    "outputId": "433693af-cf4c-4167-ce24-26f2700b866c"
   },
   "outputs": [
    {
     "name": "stdout",
     "output_type": "stream",
     "text": [
      "Training started!\n",
      "Epoch 1 => train acc: 94, val acc: 73 %\n",
      "Epoch 2 => train acc: 98, val acc: 75 %\n",
      "Epoch 3 => train acc: 100, val acc: 78 %\n",
      "Epoch 4 => train acc: 100, val acc: 78 %\n",
      "Epoch 5 => train acc: 100, val acc: 77 %\n",
      "Epoch 6 => train acc: 100, val acc: 78 %\n",
      "Epoch 7 => train acc: 100, val acc: 78 %\n",
      "Epoch 8 => train acc: 100, val acc: 78 %\n",
      "Epoch 9 => train acc: 100, val acc: 78 %\n",
      "Epoch 10 => train acc: 100, val acc: 78 %\n",
      "Training completed!\n"
     ]
    }
   ],
   "source": [
    "num_hidden = 512\n",
    "n_layers = 2\n",
    "epochs = 10\n",
    "drop_prob = 0.5\n",
    "lr = 0.01\n",
    "model25 = train_model(num_hidden, n_layers, epochs, drop_prob, lr, train_data, train_labels, test_data, test_labels)"
   ]
  },
  {
   "cell_type": "code",
   "execution_count": 53,
   "metadata": {
    "colab": {
     "base_uri": "https://localhost:8080/",
     "height": 492
    },
    "colab_type": "code",
    "executionInfo": {
     "elapsed": 1121311,
     "status": "ok",
     "timestamp": 1574305592577,
     "user": {
      "displayName": "Karan Shah",
      "photoUrl": "",
      "userId": "13222403758212753747"
     },
     "user_tz": 300
    },
    "id": "yNQTCiMjk5Ok",
    "outputId": "a992ec2b-cde7-43ac-d04b-b12958e51d9e"
   },
   "outputs": [
    {
     "name": "stdout",
     "output_type": "stream",
     "text": [
      "Training started!\n",
      "Epoch 1 => train acc: 27, val acc: 23 %\n",
      "Epoch 2 => train acc: 43, val acc: 37 %\n",
      "Epoch 3 => train acc: 68, val acc: 57 %\n",
      "Epoch 4 => train acc: 82, val acc: 72 %\n",
      "Epoch 5 => train acc: 88, val acc: 74 %\n",
      "Epoch 6 => train acc: 94, val acc: 75 %\n",
      "Epoch 7 => train acc: 96, val acc: 76 %\n",
      "Epoch 8 => train acc: 98, val acc: 76 %\n",
      "Epoch 9 => train acc: 98, val acc: 76 %\n",
      "Epoch 10 => train acc: 99, val acc: 77 %\n",
      "Epoch 11 => train acc: 100, val acc: 75 %\n",
      "Epoch 12 => train acc: 100, val acc: 77 %\n",
      "Epoch 13 => train acc: 100, val acc: 77 %\n",
      "Epoch 14 => train acc: 100, val acc: 76 %\n",
      "Epoch 15 => train acc: 100, val acc: 77 %\n",
      "Epoch 16 => train acc: 100, val acc: 76 %\n",
      "Epoch 17 => train acc: 100, val acc: 76 %\n",
      "Epoch 18 => train acc: 100, val acc: 77 %\n",
      "Epoch 19 => train acc: 100, val acc: 77 %\n",
      "Epoch 20 => train acc: 100, val acc: 76 %\n",
      "Epoch 21 => train acc: 100, val acc: 76 %\n",
      "Epoch 22 => train acc: 100, val acc: 78 %\n",
      "Epoch 23 => train acc: 100, val acc: 76 %\n",
      "Epoch 24 => train acc: 100, val acc: 77 %\n",
      "Epoch 25 => train acc: 100, val acc: 76 %\n",
      "Training completed!\n"
     ]
    }
   ],
   "source": [
    "num_hidden = 1012\n",
    "n_layers = 2\n",
    "epochs = 25\n",
    "drop_prob = 0.3\n",
    "lr = 0.001\n",
    "model25 = train_model(num_hidden, n_layers, epochs, drop_prob, lr, train_data, train_labels, test_data, test_labels)"
   ]
  },
  {
   "cell_type": "code",
   "execution_count": 39,
   "metadata": {
    "colab": {
     "base_uri": "https://localhost:8080/",
     "height": 228
    },
    "colab_type": "code",
    "executionInfo": {
     "elapsed": 937143,
     "status": "ok",
     "timestamp": 1574299699551,
     "user": {
      "displayName": "Karan Shah",
      "photoUrl": "",
      "userId": "13222403758212753747"
     },
     "user_tz": 300
    },
    "id": "7_Hzye5kfmeJ",
    "outputId": "e0ce99f3-3614-49f8-b36b-317b9d6d75a3"
   },
   "outputs": [
    {
     "name": "stdout",
     "output_type": "stream",
     "text": [
      "Training started!\n",
      "Epoch 1 => train acc: 83, val acc: 70 %\n",
      "Epoch 2 => train acc: 93, val acc: 75 %\n",
      "Epoch 3 => train acc: 96, val acc: 74 %\n",
      "Epoch 4 => train acc: 99, val acc: 80 %\n",
      "Epoch 5 => train acc: 99, val acc: 79 %\n",
      "Epoch 6 => train acc: 99, val acc: 79 %\n",
      "Epoch 7 => train acc: 100, val acc: 80 %\n",
      "Epoch 8 => train acc: 100, val acc: 80 %\n",
      "Epoch 9 => train acc: 100, val acc: 80 %\n",
      "Epoch 10 => train acc: 100, val acc: 80 %\n",
      "Training completed!\n"
     ]
    }
   ],
   "source": [
    "num_hidden = 1024\n",
    "n_layers = 5\n",
    "epochs = 10\n",
    "drop_prob = 0.3\n",
    "lr = 0.001\n",
    "model25 = train_model(num_hidden, n_layers, epochs, drop_prob, lr, train_data, train_labels, test_data, test_labels)"
   ]
  },
  {
   "cell_type": "markdown",
   "metadata": {
    "colab_type": "text",
    "id": "v0znm2TMmsDZ"
   },
   "source": [
    "---\n",
    "---\n",
    "## **Problem 3.** Evaluation"
   ]
  },
  {
   "cell_type": "code",
   "execution_count": 40,
   "metadata": {
    "colab": {
     "base_uri": "https://localhost:8080/",
     "height": 52
    },
    "colab_type": "code",
    "executionInfo": {
     "elapsed": 30109,
     "status": "ok",
     "timestamp": 1574299757117,
     "user": {
      "displayName": "Karan Shah",
      "photoUrl": "",
      "userId": "13222403758212753747"
     },
     "user_tz": 300
    },
    "id": "ARtMhcbXmsXk",
    "outputId": "a79067a5-55be-41f7-91a7-bd66114a6803"
   },
   "outputs": [
    {
     "name": "stdout",
     "output_type": "stream",
     "text": [
      "Accuracy of the network on the train data: 99 %\n",
      "Accuracy of the network on the test data: 80 %\n"
     ]
    }
   ],
   "source": [
    "# \\*write your codes for evaluation (You can use multiple cells, this is just a place holder)\n",
    "\n",
    "train_acc = evaluate(model25, train_data, train_labels)\n",
    "test_acc   = evaluate(model25, test_data, test_labels)\n",
    "print('Accuracy of the network on the train data: %d %%' % (train_acc))\n",
    "print('Accuracy of the network on the test data: %d %%' % (test_acc))"
   ]
  },
  {
   "cell_type": "code",
   "execution_count": 0,
   "metadata": {
    "colab": {},
    "colab_type": "code",
    "id": "EUJrpNsU3KW1"
   },
   "outputs": [],
   "source": [
    "from sklearn.svm import LinearSVC\n",
    "svcmodel = LinearSVC()\n",
    "\n",
    "svctrain = []\n",
    "svclabel = []\n",
    "for data, label in zip(train_data, train_labels):\n",
    "    data = torch.tensor(data)\n",
    "    label = torch.tensor(label)\n",
    "    svctrain.append(data.view(1, -1))\n",
    "    svclabel.append(label.view(1, -1))"
   ]
  },
  {
   "cell_type": "code",
   "execution_count": 0,
   "metadata": {
    "colab": {},
    "colab_type": "code",
    "id": "RoxnOV9b3KW4"
   },
   "outputs": [],
   "source": [
    "svctrain = torch.cat(svctrain).numpy()\n",
    "svclabel = torch.cat(svclabel).view(-1).numpy()"
   ]
  },
  {
   "cell_type": "code",
   "execution_count": 0,
   "metadata": {
    "colab": {
     "base_uri": "https://localhost:8080/",
     "height": 87
    },
    "colab_type": "code",
    "executionInfo": {
     "elapsed": 256252,
     "status": "ok",
     "timestamp": 1574114453699,
     "user": {
      "displayName": "Karan Shah",
      "photoUrl": "",
      "userId": "13222403758212753747"
     },
     "user_tz": 300
    },
    "id": "N0wPAbrY3KW6",
    "outputId": "c9ee77a4-8e01-418a-ce78-8ae2d41a16a2"
   },
   "outputs": [
    {
     "data": {
      "text/plain": [
       "LinearSVC(C=1.0, class_weight=None, dual=True, fit_intercept=True,\n",
       "          intercept_scaling=1, loss='squared_hinge', max_iter=1000,\n",
       "          multi_class='ovr', penalty='l2', random_state=None, tol=0.0001,\n",
       "          verbose=0)"
      ]
     },
     "execution_count": 23,
     "metadata": {
      "tags": []
     },
     "output_type": "execute_result"
    }
   ],
   "source": [
    "svcmodel.fit(svctrain, svclabel)"
   ]
  },
  {
   "cell_type": "code",
   "execution_count": 0,
   "metadata": {
    "colab": {
     "base_uri": "https://localhost:8080/",
     "height": 34
    },
    "colab_type": "code",
    "executionInfo": {
     "elapsed": 257953,
     "status": "ok",
     "timestamp": 1574114455404,
     "user": {
      "displayName": "Karan Shah",
      "photoUrl": "",
      "userId": "13222403758212753747"
     },
     "user_tz": 300
    },
    "id": "syhuAX3v3KW9",
    "outputId": "df73decf-7fe7-4235-c0a3-ff4666037ec6"
   },
   "outputs": [
    {
     "name": "stdout",
     "output_type": "stream",
     "text": [
      "Training Accuracy for SVC model: 100.000000 %\n"
     ]
    }
   ],
   "source": [
    "svctrain_results = svcmodel.predict(svctrain)\n",
    "svcTrainAcc = 100.0*np.sum(svctrain_results == svclabel) / len(svctrain_results)\n",
    "print(\"Training Accuracy for SVC model: %f %%\" % (svcTrainAcc))"
   ]
  },
  {
   "cell_type": "code",
   "execution_count": 0,
   "metadata": {
    "colab": {},
    "colab_type": "code",
    "id": "K41ohvSn3KW_"
   },
   "outputs": [],
   "source": [
    "svctest = []\n",
    "svctestlabel = []\n",
    "for data, label in zip(test_data, test_labels):\n",
    "    data = torch.tensor(data)\n",
    "    label = torch.tensor(label)\n",
    "    svctest.append(data.view(1, -1))\n",
    "    svctestlabel.append(label)"
   ]
  },
  {
   "cell_type": "code",
   "execution_count": 0,
   "metadata": {
    "colab": {},
    "colab_type": "code",
    "id": "JWj3Boy83KXB"
   },
   "outputs": [],
   "source": [
    "svctest = torch.cat(svctest).numpy()\n",
    "svctestlabel = np.array(svctestlabel)"
   ]
  },
  {
   "cell_type": "code",
   "execution_count": 0,
   "metadata": {
    "colab": {
     "base_uri": "https://localhost:8080/",
     "height": 34
    },
    "colab_type": "code",
    "executionInfo": {
     "elapsed": 259328,
     "status": "ok",
     "timestamp": 1574114456793,
     "user": {
      "displayName": "Karan Shah",
      "photoUrl": "",
      "userId": "13222403758212753747"
     },
     "user_tz": 300
    },
    "id": "UWifGbM43KXD",
    "outputId": "3d103f51-ae1e-40f9-c174-f9001acc3eef"
   },
   "outputs": [
    {
     "name": "stdout",
     "output_type": "stream",
     "text": [
      "Test Accuracy for SVC model: 86.014721 %\n"
     ]
    }
   ],
   "source": [
    "svctest_results = svcmodel.predict(svctest)\n",
    "svcAcc = 100.0*np.sum(svctest_results == svctestlabel) / len(svctest_results)\n",
    "print(\"Test Accuracy for SVC model: %f %%\" % (svcAcc))"
   ]
  },
  {
   "cell_type": "markdown",
   "metadata": {
    "colab_type": "text",
    "id": "80ZUeqnGv48f"
   },
   "source": [
    "* ##### **Print the train and test accuracy of your model** "
   ]
  },
  {
   "cell_type": "code",
   "execution_count": 58,
   "metadata": {
    "colab": {
     "base_uri": "https://localhost:8080/",
     "height": 52
    },
    "colab_type": "code",
    "executionInfo": {
     "elapsed": 870,
     "status": "ok",
     "timestamp": 1574309312771,
     "user": {
      "displayName": "Karan Shah",
      "photoUrl": "",
      "userId": "13222403758212753747"
     },
     "user_tz": 300
    },
    "id": "noU83jq_GsAf",
    "outputId": "2aef54e9-8835-4214-a1bd-8a935d0641ec"
   },
   "outputs": [
    {
     "name": "stdout",
     "output_type": "stream",
     "text": [
      "Training accuracy is 99.958\n",
      "Test accuracy is 80.336\n"
     ]
    }
   ],
   "source": [
    "# Don't hardcode the train and test accuracy\n",
    "print('Training accuracy is %2.3f' %(train_acc) )\n",
    "print('Test accuracy is %2.3f' %(test_acc) )"
   ]
  },
  {
   "cell_type": "markdown",
   "metadata": {
    "colab_type": "text",
    "id": "eesNQn6FYKQz"
   },
   "source": [
    "* ##### **Print the train and test and test accuracy of SVM** "
   ]
  },
  {
   "cell_type": "code",
   "execution_count": 0,
   "metadata": {
    "colab": {
     "base_uri": "https://localhost:8080/",
     "height": 52
    },
    "colab_type": "code",
    "executionInfo": {
     "elapsed": 306,
     "status": "ok",
     "timestamp": 1574114464820,
     "user": {
      "displayName": "Karan Shah",
      "photoUrl": "",
      "userId": "13222403758212753747"
     },
     "user_tz": 300
    },
    "id": "ip87hPqTYJtr",
    "outputId": "ee89adb0-2c56-4e35-da64-27af7f6b846d"
   },
   "outputs": [
    {
     "name": "stdout",
     "output_type": "stream",
     "text": [
      "Training accuracy is 100.000\n",
      "Test accuracy is 86.015\n"
     ]
    }
   ],
   "source": [
    "# Don't hardcode the train and test accuracy\n",
    "print('Training accuracy is %2.3f' %(svcTrainAcc) )\n",
    "print('Test accuracy is %2.3f' %(svcAcc) )"
   ]
  },
  {
   "cell_type": "markdown",
   "metadata": {
    "colab_type": "text",
    "id": "cL4Y3nHBkwmb"
   },
   "source": [
    "## **Problem 4.** Report"
   ]
  },
  {
   "cell_type": "markdown",
   "metadata": {
    "colab_type": "text",
    "id": "JbzpDeRRNuHj"
   },
   "source": [
    "## **Bonus**\n"
   ]
  },
  {
   "cell_type": "code",
   "execution_count": 0,
   "metadata": {
    "colab": {},
    "colab_type": "code",
    "id": "NoGzwyj13KXS"
   },
   "outputs": [],
   "source": [
    "nclasses = 101\n",
    "classes101 = info[1].unique()[:nclasses]\n",
    "\n",
    "train_folders_names101 = []\n",
    "test_folders_names101 = []\n",
    "train_labels101 = []\n",
    "test_labels101 = []\n",
    "\n",
    "for classindex in classes101:\n",
    "    train_folders = info[(info[1] == classindex) & (info[2] == 1)][0].tolist()\n",
    "    train_folders_names101.extend(train_folders)\n",
    "    \n",
    "    test_folders = info[(info[1] == classindex) & (info[2] == 2)][0].tolist()\n",
    "    test_folders_names101.extend(test_folders)\n",
    "    \n",
    "    train_labels101.extend(np.repeat(classindex, len(train_folders)))\n",
    "    test_labels101.extend(np.repeat(classindex, len(test_folders)))"
   ]
  },
  {
   "cell_type": "code",
   "execution_count": 13,
   "metadata": {
    "colab": {
     "base_uri": "https://localhost:8080/",
     "height": 193
    },
    "colab_type": "code",
    "executionInfo": {
     "elapsed": 3624198,
     "status": "ok",
     "timestamp": 1574331234749,
     "user": {
      "displayName": "Karan Shah",
      "photoUrl": "",
      "userId": "13222403758212753747"
     },
     "user_tz": 300
    },
    "id": "jBnXO8FE3KXT",
    "outputId": "901a1e7a-5968-41bb-932a-d5bd2e9eaba7"
   },
   "outputs": [
    {
     "name": "stdout",
     "output_type": "stream",
     "text": [
      "0\n",
      "1000\n",
      "2000\n",
      "3000\n",
      "4000\n",
      "5000\n",
      "6000\n",
      "7000\n",
      "8000\n",
      "9000\n"
     ]
    }
   ],
   "source": [
    "train_data101 = load_data(train_folders_names101, 'train') #9537"
   ]
  },
  {
   "cell_type": "code",
   "execution_count": 14,
   "metadata": {
    "colab": {
     "base_uri": "https://localhost:8080/",
     "height": 87
    },
    "colab_type": "code",
    "executionInfo": {
     "elapsed": 5538253,
     "status": "ok",
     "timestamp": 1574333155482,
     "user": {
      "displayName": "Karan Shah",
      "photoUrl": "",
      "userId": "13222403758212753747"
     },
     "user_tz": 300
    },
    "id": "XT0JF67U3KXW",
    "outputId": "eb99090a-ff45-4301-c9a2-fb8dc2efa090"
   },
   "outputs": [
    {
     "name": "stdout",
     "output_type": "stream",
     "text": [
      "0\n",
      "1000\n",
      "2000\n",
      "3000\n"
     ]
    }
   ],
   "source": [
    "test_data101 = load_data(test_folders_names101, 'test') #3783"
   ]
  },
  {
   "cell_type": "markdown",
   "metadata": {
    "colab_type": "text",
    "id": "jPrhLzuyN-rr"
   },
   "source": [
    "* ##### **Print the size of your training and test data**"
   ]
  },
  {
   "cell_type": "code",
   "execution_count": 12,
   "metadata": {
    "colab": {
     "base_uri": "https://localhost:8080/",
     "height": 52
    },
    "colab_type": "code",
    "executionInfo": {
     "elapsed": 865,
     "status": "ok",
     "timestamp": 1574310997352,
     "user": {
      "displayName": "Karan Shah",
      "photoUrl": "",
      "userId": "13222403758212753747"
     },
     "user_tz": 300
    },
    "id": "b8IR6zrwOENz",
    "outputId": "02523b31-dbdc-4ce9-b014-c72304338950"
   },
   "outputs": [
    {
     "name": "stdout",
     "output_type": "stream",
     "text": [
      "Shape of training data is : (9537, 4096, 25)\n",
      "Shape of test/validation data is : (3783, 4096, 25)\n"
     ]
    }
   ],
   "source": [
    "# Don't hardcode the shape of train and test data\n",
    "print('Shape of training data is :', train_data101.shape)\n",
    "print('Shape of test/validation data is :', test_data101.shape)"
   ]
  },
  {
   "cell_type": "markdown",
   "metadata": {
    "colab_type": "text",
    "id": "GAakVg8-OE_j"
   },
   "source": [
    "* ##### **Modelling and evaluation**"
   ]
  },
  {
   "cell_type": "code",
   "execution_count": 0,
   "metadata": {
    "colab": {},
    "colab_type": "code",
    "id": "OtRoINGxZnR6"
   },
   "outputs": [],
   "source": [
    "# \\*write your codes for modelling using the extracted feature (You can use multiple cells, this is just a place holder)\n",
    "\n",
    "def train_model(num_hidden, n_layers, epochs, drop_prob, lr, train_data, train_labels, test_data, test_labels):\n",
    "    nclasses=101\n",
    "    class LSTMAction(nn.Module):\n",
    "        # def __init__(self, feature_dim, hidden_dim, action_size, drop_prob=drop_prob):\n",
    "        #     super(LSTMAction, self).__init__()\n",
    "        #     self.hidden_dim = hidden_dim\n",
    "        #     self.lstm = nn.LSTM(feature_dim, hidden_dim, n_layers)\n",
    "        #     self.final = nn.Linear(hidden_dim, action_size)\n",
    "        #     self.hidden = self.init_hidden()\n",
    "\n",
    "        # def init_hidden(self):\n",
    "        #     return (torch.zeros(n_layers, 1, self.hidden_dim).to(device),\n",
    "        #                 torch.zeros(n_layers, 1, self.hidden_dim).to(device))\n",
    "\n",
    "        # def forward(self, video):\n",
    "        #     lstm_out, self.hidden = self.lstm(video.view(25, 1, -1), self.hidden)\n",
    "        #     output = self.final(self.hidden[-1])\n",
    "        #     return output\n",
    "\n",
    "        def __init__(self, feature_dim, num_hidden, nclasses, drop_prob=drop_prob):\n",
    "            super(LSTMAction, self).__init__()\n",
    "            self.num_hidden = num_hidden\n",
    "            self.lstm = nn.LSTM(feature_dim, num_hidden, n_layers, dropout = drop_prob)\n",
    "            self.dense = nn.Linear(num_hidden, 512)\n",
    "            self.final = nn.Linear(512, nclasses)\n",
    "            self.hidden = self.init_hidden()\n",
    "\n",
    "        def init_hidden(self):\n",
    "            return (torch.zeros(n_layers, 1, self.num_hidden).to(device),\n",
    "                        torch.zeros(n_layers, 1, self.num_hidden).to(device))\n",
    "\n",
    "        def forward(self, video):\n",
    "            lstm_out, self.hidden = self.lstm(video.view(25, 1, -1), self.hidden)\n",
    "            output = self.final(self.dense(F.relu(self.hidden[0])))\n",
    "            return output\n",
    "\n",
    "    train = ()\n",
    "    model = LSTMAction(4096, num_hidden, nclasses)\n",
    "\n",
    "    loss_function = nn.CrossEntropyLoss()\n",
    "    optimizer = optim.SGD(model.parameters(), lr=lr, momentum=0.09)\n",
    "    model.to(device)\n",
    "    model(torch.tensor(train_data[0]).to(device))\n",
    "\n",
    "    print(\"Training started!\")\n",
    "    for epoch in range(epochs):\n",
    "\n",
    "        c = list(zip(train_data, train_labels))\n",
    "        random.shuffle(c)\n",
    "        train_data, train_labels = zip(*c)\n",
    "\n",
    "        for data, label in zip(train_data, train_labels):\n",
    "            model.zero_grad()\n",
    "            model.hidden = model.init_hidden()\n",
    "\n",
    "            label = torch.tensor(label-1)\n",
    "            data, label = torch.tensor(data).to(device), label.to(device)\n",
    "            tag_scores = model(data)\n",
    "            loss = loss_function(tag_scores.view(1, n_layers * nclasses), label.view(1))\n",
    "            loss.backward()\n",
    "            optimizer.step()\n",
    "        train_acc = evaluate(model, train_data, train_labels)\n",
    "        val_acc   = evaluate(model, test_data, test_labels)\n",
    "        print('Epoch %d => train acc: %d, val acc: %d %%' % (epoch+1, train_acc, val_acc))\n",
    "    print(\"Training completed!\")\n",
    "    return model"
   ]
  },
  {
   "cell_type": "code",
   "execution_count": 22,
   "metadata": {
    "colab": {
     "base_uri": "https://localhost:8080/",
     "height": 228
    },
    "colab_type": "code",
    "executionInfo": {
     "elapsed": 745446,
     "status": "ok",
     "timestamp": 1574314337188,
     "user": {
      "displayName": "Karan Shah",
      "photoUrl": "",
      "userId": "13222403758212753747"
     },
     "user_tz": 300
    },
    "id": "QHbPzkcoObLb",
    "outputId": "f0ef3832-25e6-4b55-968a-f8149cc249fd"
   },
   "outputs": [
    {
     "name": "stdout",
     "output_type": "stream",
     "text": [
      "Training started!\n",
      "Epoch 1 => train acc: 73, val acc: 49 %\n",
      "Epoch 2 => train acc: 85, val acc: 52 %\n",
      "Epoch 3 => train acc: 92, val acc: 52 %\n",
      "Epoch 4 => train acc: 58, val acc: 26 %\n",
      "Epoch 5 => train acc: 95, val acc: 46 %\n",
      "Epoch 6 => train acc: 98, val acc: 54 %\n",
      "Epoch 7 => train acc: 98, val acc: 54 %\n",
      "Epoch 8 => train acc: 98, val acc: 54 %\n",
      "Epoch 9 => train acc: 98, val acc: 53 %\n",
      "Epoch 10 => train acc: 98, val acc: 52 %\n",
      "Training completed!\n"
     ]
    }
   ],
   "source": [
    "#Write your code for modelling and evaluation\n",
    "\n",
    "num_hidden = 64\n",
    "n_layers = 3\n",
    "epochs = 10\n",
    "lr = 0.01\n",
    "model101 = train_model(num_hidden, n_layers, epochs, drop_prob, lr, train_data101, train_labels101, test_data101, test_labels101)"
   ]
  },
  {
   "cell_type": "code",
   "execution_count": 19,
   "metadata": {
    "colab": {
     "base_uri": "https://localhost:8080/",
     "height": 228
    },
    "colab_type": "code",
    "executionInfo": {
     "elapsed": 2264010,
     "status": "ok",
     "timestamp": 1574335783094,
     "user": {
      "displayName": "Karan Shah",
      "photoUrl": "",
      "userId": "13222403758212753747"
     },
     "user_tz": 300
    },
    "id": "Ajjw1rn6aAqM",
    "outputId": "9cdf6b09-115f-42f3-e614-2bb844b5b620"
   },
   "outputs": [
    {
     "name": "stdout",
     "output_type": "stream",
     "text": [
      "Training started!\n",
      "Epoch 1 => train acc: 64, val acc: 46 %\n",
      "Epoch 2 => train acc: 80, val acc: 50 %\n",
      "Epoch 3 => train acc: 89, val acc: 55 %\n",
      "Epoch 4 => train acc: 95, val acc: 57 %\n",
      "Epoch 5 => train acc: 95, val acc: 55 %\n",
      "Epoch 6 => train acc: 99, val acc: 60 %\n",
      "Epoch 7 => train acc: 100, val acc: 61 %\n",
      "Epoch 8 => train acc: 100, val acc: 61 %\n",
      "Epoch 9 => train acc: 100, val acc: 61 %\n",
      "Epoch 10 => train acc: 100, val acc: 61 %\n",
      "Training completed!\n"
     ]
    }
   ],
   "source": [
    "#Write your code for modelling and evaluation\n",
    "\n",
    "num_hidden = 256\n",
    "n_layers = 2\n",
    "epochs = 10\n",
    "drop_prob = 0.5\n",
    "lr = 0.01\n",
    "model101 = train_model(num_hidden, n_layers, epochs, drop_prob, lr, train_data101, train_labels101, test_data101, test_labels101)"
   ]
  },
  {
   "cell_type": "code",
   "execution_count": 19,
   "metadata": {
    "colab": {
     "base_uri": "https://localhost:8080/",
     "height": 228
    },
    "colab_type": "code",
    "executionInfo": {
     "elapsed": 1375487,
     "status": "ok",
     "timestamp": 1574313523559,
     "user": {
      "displayName": "Karan Shah",
      "photoUrl": "",
      "userId": "13222403758212753747"
     },
     "user_tz": 300
    },
    "id": "gCW0Tl7J8Z85",
    "outputId": "5e500a38-f6d1-45ec-cc0d-b81d5c118b2d"
   },
   "outputs": [
    {
     "name": "stdout",
     "output_type": "stream",
     "text": [
      "Training started!\n",
      "Epoch 1 => train acc: 60, val acc: 44 %\n",
      "Epoch 2 => train acc: 79, val acc: 53 %\n",
      "Epoch 3 => train acc: 87, val acc: 54 %\n",
      "Epoch 4 => train acc: 94, val acc: 56 %\n",
      "Epoch 5 => train acc: 99, val acc: 61 %\n",
      "Epoch 6 => train acc: 99, val acc: 62 %\n",
      "Epoch 7 => train acc: 100, val acc: 64 %\n",
      "Epoch 8 => train acc: 100, val acc: 64 %\n",
      "Epoch 9 => train acc: 100, val acc: 64 %\n",
      "Epoch 10 => train acc: 100, val acc: 64 %\n",
      "Training completed!\n"
     ]
    }
   ],
   "source": [
    "#Write your code for modelling and evaluation\n",
    "\n",
    "num_hidden = 512\n",
    "n_layers = 3\n",
    "epochs = 10\n",
    "drop_prob = 0.5\n",
    "lr = 0.01\n",
    "model101 = train_model(num_hidden, n_layers, epochs, drop_prob, lr, train_data101, train_labels101, test_data101, test_labels101)"
   ]
  },
  {
   "cell_type": "code",
   "execution_count": 20,
   "metadata": {
    "colab": {
     "base_uri": "https://localhost:8080/",
     "height": 52
    },
    "colab_type": "code",
    "executionInfo": {
     "elapsed": 46997,
     "status": "ok",
     "timestamp": 1574313575138,
     "user": {
      "displayName": "Karan Shah",
      "photoUrl": "",
      "userId": "13222403758212753747"
     },
     "user_tz": 300
    },
    "id": "fWypLhG03KXg",
    "outputId": "a210c996-37e9-4346-eca2-35068b7a1a93"
   },
   "outputs": [
    {
     "name": "stdout",
     "output_type": "stream",
     "text": [
      "Accuracy of the network on the train data: 100 %\n",
      "Accuracy of the network on the test data: 64 %\n"
     ]
    }
   ],
   "source": [
    "train_acc101 = evaluate(model101, train_data101, train_labels101)\n",
    "test_acc101   = evaluate(model101, test_data101, test_labels101)\n",
    "print('Accuracy of the network on the train data: %d %%' % (train_acc101))\n",
    "print('Accuracy of the network on the test data: %d %%' % (test_acc101))"
   ]
  }
 ],
 "metadata": {
  "accelerator": "GPU",
  "anaconda-cloud": {},
  "colab": {
   "collapsed_sections": [],
   "name": "Copy of revised (1).ipynb",
   "provenance": [
    {
     "file_id": "1Ac9OGHKYojcda0XCiiwSIYCJTtBadoPi",
     "timestamp": 1574335962494
    }
   ]
  },
  "kernelspec": {
   "display_name": "Python 3",
   "language": "python",
   "name": "python3"
  },
  "language_info": {
   "codemirror_mode": {
    "name": "ipython",
    "version": 3
   },
   "file_extension": ".py",
   "mimetype": "text/x-python",
   "name": "python",
   "nbconvert_exporter": "python",
   "pygments_lexer": "ipython3",
   "version": "3.6.7"
  }
 },
 "nbformat": 4,
 "nbformat_minor": 1
}
