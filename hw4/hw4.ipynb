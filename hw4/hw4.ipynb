{
 "cells": [
  {
   "cell_type": "markdown",
   "metadata": {
    "colab_type": "text",
    "id": "XSfnuObtYYMH"
   },
   "source": [
    "# CSE527 Homework 4\n",
    "**Due date: 23:59 on Nov. 5, 2019 (Thuesday)**\n",
    "\n",
    "In this semester, we will use Google Colab for the assignments, which allows us to utilize resources that some of us might not have in their local machines such as GPUs. You will need to use your Stony Brook (*.stonybrook.edu) account for coding and Google Drive to save your results.\n",
    "\n",
    "## Google Colab Tutorial\n",
    "---\n",
    "Go to https://colab.research.google.com/notebooks/, you will see a tutorial named \"Welcome to Colaboratory\" file, where you can learn the basics of using google colab.\n",
    "\n",
    "Settings used for assignments: ***Edit -> Notebook Settings -> Runtime Type (Python 3)***.\n",
    "\n",
    "\n",
    "## Description\n",
    "---\n",
    "This project is an introduction to deep learning tools for computer vision. You will design and train deep convolutional networks for scene recognition using [PyTorch](http://pytorch.org). You can visualize the\n",
    "structure of the network with [mNeuron] (http://vision03.csail.mit.edu/cnn_art/index.html)\n",
    "\n",
    "Remember Homework 3: Scene recognition with bag of words. You worked hard to design a bag of features representations that achieved 60% to 70% accuracy (most likely) on 16-way scene classification. We're going to attack the same task with deep learning and get higher accuracy. Training from scratch won't work quite as well as homework 3 due to the insufficient amount of data, fine-tuning an existing network will work much better than homework 3.\n",
    "\n",
    "In Problem 1 of the project you will train a deep convolutional network from scratch to recognize scenes. The starter codes gives you methods to load data and display them. You will need to define a simple network architecture and add jittering, normalization, and regularization to increase recognition accuracy to 50, 60, or perhaps 70%. Unfortunately, we only have 2,400 training examples so it doesn't seem possible to train a network from scratch which outperforms hand-crafted features\n",
    "\n",
    "For Problem 2 you will instead fine-tune a pre-trained deep network to achieve about 85% accuracy on the task. We will use the pretrained AlexNet network which was not trained to recognize scenes at all. \n",
    "\n",
    "These two approaches represent the most common approaches to recognition problems in computer vision today -- train a deep network from scratch if you have enough data (it's not always obvious whether or not you do), and if you cannot then instead fine-tune a pre-trained network.\n",
    "\n",
    "There are 2 problems in this homework with a total of 110 points including 10 bonus points. Be sure to read **Submission Guidelines** below. They are important. For the problems requiring text descriptions, you might want to add a markdown block for that.\n",
    "\n",
    "## Dataset\n",
    "---\n",
    "Save the [dataset(click me)](https://drive.google.com/open?id=1NWC3TMsXSWN2TeoYMCjhf2N1b-WRDh-M) into your working folder in your Google Drive for this homework. <br>\n",
    "Under your root folder, there should be a folder named \"data\" (i.e. XXX/Surname_Givenname_SBUID/data) containing the images.\n",
    "**Do not upload** the data subfolder before submitting on blackboard due to size limit. There should be only one .ipynb file under your root folder Surname_Givenname_SBUID.\n",
    "\n",
    "## Some Tutorials (PyTorch)\n",
    "---\n",
    "- You will be using PyTorch for deep learning toolbox (follow the [link](http://pytorch.org) for installation).\n",
    "- For PyTorch beginners, please read this [tutorial](http://pytorch.org/tutorials/beginner/deep_learning_60min_blitz.html) before doing your homework.\n",
    "- Feel free to study more tutorials at http://pytorch.org/tutorials/.\n",
    "- Find cool visualization here at http://playground.tensorflow.org.\n",
    "\n",
    "\n",
    "## Starter Code\n",
    "---\n",
    "In the starter code, you are provided with a function that loads data into minibatches for training and testing in PyTorch."
   ]
  },
  {
   "cell_type": "code",
   "execution_count": 0,
   "metadata": {
    "colab": {},
    "colab_type": "code",
    "id": "0UA6WFgcYYMI"
   },
   "outputs": [],
   "source": [
    "# import packages here\n",
    "import cv2\n",
    "import numpy as np\n",
    "import matplotlib.pyplot as plt\n",
    "import glob\n",
    "import random \n",
    "import time\n",
    "\n",
    "import torch\n",
    "import torchvision\n",
    "import torchvision.transforms as transforms\n",
    "\n",
    "from torch.autograd import Variable\n",
    "import torch.nn as nn\n",
    "import torch.nn.functional as F\n",
    "from torchvision import models\n",
    "import torch.optim as optim\n",
    "from sklearn.svm import LinearSVC\n",
    "from scipy.ndimage.interpolation import rotate\n",
    "import imgaug.augmenters as iaa"
   ]
  },
  {
   "cell_type": "code",
   "execution_count": 3,
   "metadata": {
    "colab": {
     "base_uri": "https://localhost:8080/",
     "height": 125
    },
    "colab_type": "code",
    "id": "L7T72O-1ks-a",
    "outputId": "40c2a61d-dfa0-4beb-c71a-20e7b0ec6cd7"
   },
   "outputs": [
    {
     "name": "stdout",
     "output_type": "stream",
     "text": [
      "Go to this URL in a browser: https://accounts.google.com/o/oauth2/auth?client_id=947318989803-6bn6qk8qdgf4n4g3pfee6491hc0brc4i.apps.googleusercontent.com&redirect_uri=urn%3Aietf%3Awg%3Aoauth%3A2.0%3Aoob&scope=email%20https%3A%2F%2Fwww.googleapis.com%2Fauth%2Fdocs.test%20https%3A%2F%2Fwww.googleapis.com%2Fauth%2Fdrive%20https%3A%2F%2Fwww.googleapis.com%2Fauth%2Fdrive.photos.readonly%20https%3A%2F%2Fwww.googleapis.com%2Fauth%2Fpeopleapi.readonly&response_type=code\n",
      "\n",
      "Enter your authorization code:\n",
      "··········\n",
      "Mounted at /content/gdrive\n"
     ]
    }
   ],
   "source": [
    "# Mount your google drive where you've saved your assignment folder\n",
    "from google.colab import drive\n",
    "drive.mount('/content/gdrive', force_remount=True)"
   ]
  },
  {
   "cell_type": "code",
   "execution_count": 8,
   "metadata": {
    "colab": {
     "base_uri": "https://localhost:8080/",
     "height": 54
    },
    "colab_type": "code",
    "id": "0NxnBcUqk_9B",
    "outputId": "698e820f-f385-436e-ff12-a067720d9e69"
   },
   "outputs": [
    {
     "name": "stdout",
     "output_type": "stream",
     "text": [
      "class_names: {0: 'Coast', 1: 'Flower', 2: 'Bedroom', 3: 'Forest', 4: 'Office', 5: 'Industrial', 6: 'Street', 7: 'LivingRoom', 8: 'Store', 9: 'Kitchen', 10: 'Highway', 11: 'OpenCountry', 12: 'Mountain', 13: 'InsideCity', 14: 'TallBuilding', 15: 'Suburb', 16: '_DS_Store'} \n"
     ]
    }
   ],
   "source": [
    "# ==========================================\n",
    "#    Load Training Data and Testing Data\n",
    "# ==========================================\n",
    "class_names = [name[13:] for name in glob.glob('./data/train/*')]\n",
    "class_names = dict(zip(range(len(class_names)), class_names))\n",
    "print(\"class_names: %s \" % class_names)\n",
    "n_train_samples = 150\n",
    "n_test_samples = 50\n",
    "\n",
    "\n",
    "def img_norm(img):\n",
    "  #\n",
    "  # Write your code here\n",
    "  # normalize img pixels to [-1, 1]\n",
    "  #\n",
    "  img = img.astype('float64')\n",
    "  img = 2 * ((img - np.min(img) / np.max(img) - np.min(img))) - 1\n",
    "  return img\n",
    "\n",
    "def load_dataset(path, img_size, num_per_class=-1, batch_num=1, shuffle=False, augment=False, is_color=False,\n",
    "                rotate_90=False, zero_centered=False, random_augment=False):\n",
    "    \n",
    "    data = []\n",
    "    labels = []\n",
    "    \n",
    "    if is_color:\n",
    "        channel_num = 3\n",
    "    else:\n",
    "        channel_num = 1\n",
    "        \n",
    "    # read images and resizing\n",
    "    for id, class_name in class_names.items():\n",
    "        print(\"Loading images from class: %s\" % id)\n",
    "        img_path_class = glob.glob(path + class_name + '/*.jpg')\n",
    "        if num_per_class > 0:\n",
    "            img_path_class = img_path_class[:num_per_class]\n",
    "        labels.extend([id]*len(img_path_class))\n",
    "        for filename in img_path_class:\n",
    "            if is_color:\n",
    "                img = cv2.imread(filename)\n",
    "            else:\n",
    "                img = cv2.imread(filename, 0)\n",
    "            \n",
    "            # resize the image\n",
    "            img = cv2.resize(img, img_size, cv2.INTER_LINEAR)\n",
    "            \n",
    "            if is_color:\n",
    "                img = np.transpose(img, [2, 0, 1])\n",
    "            \n",
    "            # norm pixel values to [-1, 1]\n",
    "            data.append(img_norm(img))\n",
    "            \n",
    "    #\n",
    "    # Write your Data Augmentation code here\n",
    "    # mirroring\n",
    "    #\n",
    "    if augment:\n",
    "        aug_data = [np.flip(img, 1) for img in data]\n",
    "        data.extend(aug_data)\n",
    "        labels.extend(labels)\n",
    "\n",
    "    if random_augment:\n",
    "        sometimes = lambda aug: iaa.Sometimes(0.5, aug)\n",
    "        seq = iaa.Sequential([\n",
    "            sometimes(iaa.AffineCv2(rotate=np.random.choice(range(5,85,5)))),\n",
    "            iaa.Crop(px=(1, 24), keep_size=True)\n",
    "        ])\n",
    "        aug_data = seq(images=data)\n",
    "        plt.imshow(data[-1], 'gray')\n",
    "        plt.show()\n",
    "        # aug_data = [rotate(img, np.random.choice([90,180,270]), reshape=False) for img in data]\n",
    "        plt.imshow(aug_data[-1], 'gray')\n",
    "        plt.show()\n",
    "        data.extend(aug_data)\n",
    "        labels.extend(labels)        \n",
    "    #\n",
    "    # Write your Data Normalization code here\n",
    "    # norm data to zero-centered\n",
    "    #\n",
    "    if zero_centered:\n",
    "      data -= np.mean(data, axis = 0)\n",
    "      data /= np.std(data, axis = 0)\n",
    "\n",
    "    # randomly permute (this step is important for training)\n",
    "    if shuffle:\n",
    "        bundle = list(zip(data, labels))\n",
    "        random.shuffle(bundle)\n",
    "        data, labels = zip(*bundle)\n",
    "    \n",
    "    # divide data into minibatches of TorchTensors\n",
    "    if batch_num > 1:\n",
    "        batch_data = []\n",
    "        batch_labels = []\n",
    "        \n",
    "        print(len(data))\n",
    "        print(batch_num)\n",
    "        \n",
    "        for i in range(int(len(data) / batch_num)):\n",
    "            minibatch_d = data[i*batch_num: (i+1)*batch_num]\n",
    "            minibatch_d = np.reshape(minibatch_d, (batch_num, channel_num, img_size[0], img_size[1]))\n",
    "            batch_data.append(torch.from_numpy(minibatch_d))\n",
    "\n",
    "            minibatch_l = labels[i*batch_num: (i+1)*batch_num]\n",
    "            batch_labels.append(torch.LongTensor(minibatch_l))\n",
    "        data, labels = batch_data, batch_labels \n",
    "    \n",
    "    return zip(batch_data, batch_labels)"
   ]
  },
  {
   "cell_type": "code",
   "execution_count": 9,
   "metadata": {
    "colab": {
     "base_uri": "https://localhost:8080/",
     "height": 721
    },
    "colab_type": "code",
    "id": "wHI2VYbDloje",
    "outputId": "43ba268c-23df-42c6-f2b9-e5d0a6996756"
   },
   "outputs": [
    {
     "name": "stdout",
     "output_type": "stream",
     "text": [
      "Loading images from class: 0\n",
      "Loading images from class: 1\n",
      "Loading images from class: 2\n",
      "Loading images from class: 3\n",
      "Loading images from class: 4\n",
      "Loading images from class: 5\n",
      "Loading images from class: 6\n",
      "Loading images from class: 7\n",
      "Loading images from class: 8\n",
      "Loading images from class: 9\n",
      "Loading images from class: 10\n",
      "Loading images from class: 11\n",
      "Loading images from class: 12\n",
      "Loading images from class: 13\n",
      "Loading images from class: 14\n",
      "Loading images from class: 15\n",
      "Loading images from class: 16\n",
      "4800\n",
      "50\n",
      "Finish loading 96 minibatches(=50) of training samples.\n",
      "Loading images from class: 0\n",
      "Loading images from class: 1\n",
      "Loading images from class: 2\n",
      "Loading images from class: 3\n",
      "Loading images from class: 4\n",
      "Loading images from class: 5\n",
      "Loading images from class: 6\n",
      "Loading images from class: 7\n",
      "Loading images from class: 8\n",
      "Loading images from class: 9\n",
      "Loading images from class: 10\n",
      "Loading images from class: 11\n",
      "Loading images from class: 12\n",
      "Loading images from class: 13\n",
      "Loading images from class: 14\n",
      "Loading images from class: 15\n",
      "Loading images from class: 16\n",
      "400\n",
      "50\n",
      "Finish loading 8 minibatches(=50) of testing samples.\n"
     ]
    }
   ],
   "source": [
    "# load data into size (64, 64)\n",
    "img_size = (64, 64)\n",
    "batch_num = 50 # training sample number per batch\n",
    "\n",
    "# load training dataset\n",
    "trainloader_small = list(load_dataset('./data/train/', img_size, batch_num=batch_num, shuffle=True, \n",
    "                                      augment=True, zero_centered=True))\n",
    "train_num = len(trainloader_small)\n",
    "print(\"Finish loading %d minibatches(=%d) of training samples.\" % (train_num, batch_num))\n",
    "\n",
    "# load testing dataset\n",
    "testloader_small = list(load_dataset('./data/test/', img_size, num_per_class=50, batch_num=batch_num, zero_centered=True))\n",
    "test_num = len(testloader_small)\n",
    "print(\"Finish loading %d minibatches(=%d) of testing samples.\" % (test_num, batch_num))"
   ]
  },
  {
   "cell_type": "code",
   "execution_count": 10,
   "metadata": {
    "colab": {
     "base_uri": "https://localhost:8080/",
     "height": 286
    },
    "colab_type": "code",
    "id": "krCXjDOzlq0f",
    "outputId": "9b4f4790-dcbc-4562-dec3-ecb6ef0b4b2b"
   },
   "outputs": [
    {
     "name": "stdout",
     "output_type": "stream",
     "text": [
      "Suburb\n"
     ]
    },
    {
     "data": {
      "image/png": "[encoded data removed]",
      "text/plain": [
       "<Figure size 432x288 with 1 Axes>"
      ]
     },
     "metadata": {
      "tags": []
     },
     "output_type": "display_data"
    }
   ],
   "source": [
    "# show some images\n",
    "def imshow(img):\n",
    "    img = img / 2 + 0.5     # unnormalize\n",
    "    npimg = img.numpy()\n",
    "    if len(npimg.shape) > 2:\n",
    "        npimg = np.transpose(img, [1, 2, 0])\n",
    "    plt.figure\n",
    "    plt.imshow(npimg, 'gray')\n",
    "    plt.show()\n",
    "img, label = trainloader_small[0][0][11][0], trainloader_small[0][1][11]\n",
    "label = int(np.array(label))\n",
    "print(class_names[label])\n",
    "imshow(img)"
   ]
  },
  {
   "cell_type": "markdown",
   "metadata": {
    "colab_type": "text",
    "id": "JGA-K6QzYYMR"
   },
   "source": [
    "## Problem 1: Training a Network From Scratch\n",
    "{Part 1: 35 points} Gone are the days of hand designed features. Now we have end-to-end learning in which a highly non-linear representation is learned for our data to maximize our objective (in this case, 16-way classification accuracy). Instead of 70% accuracy we can now recognize scenes with... 25% accuracy. OK, that didn't work at all. Try to boost the accuracy by doing the following:\n",
    "\n",
    "**Data Augmentation**: We don't have enough training data, let's augment the training data.\n",
    "If you left-right flip (mirror) an image of a scene, it never changes categories. A kitchen doesn't become a forest when mirrored. This isn't true in all domains — a \"d\" becomes a \"b\" when mirrored, so you can't \"jitter\" digit recognition training data in the same way. But we can synthetically increase our amount of training data by left-right mirroring training images during the learning process.\n",
    "\n",
    "After you implement mirroring, you should notice that your training error doesn't drop as quickly. That's actually a good thing, because it means the network isn't overfitting to the 2,400 original training images as much (because it sees 4,800 training images now, although they're not as good as 4,800 truly independent samples). Because the training and test errors fall more slowly, you may need more training epochs or you may try modifying the learning rate. You should see a roughly 10% increase in accuracy by adding mirroring. You are **required** to implement mirroring as data augmentation for this part.\n",
    "\n",
    "You can try more elaborate forms of jittering -- zooming in a random amount, rotating a random amount, taking a random crop, etc. These are not required, you might want to try these in the bonus part.\n",
    "\n",
    "**Data Normalization**: The images aren't zero-centered. One simple trick which can help a lot is to subtract the mean from every image. It would arguably be more proper to only compute the mean from the training images (since the test/validation images should be strictly held out) but it won't make much of a difference. After doing this you should see another 15% or so increase in accuracy. This part is **required**.\n",
    "\n",
    "**Network Regularization**: Add dropout layer. If you train your network (especially for more than the default 30 epochs) you'll see that the training error can decrease to zero while the val top1 error hovers at 40% to 50%. The network has learned weights which can perfectly recognize the training data, but those weights don't generalize to held out test data. The best regularization would be more training data but we don't have that. Instead we will use dropout regularization.\n",
    "\n",
    "What does dropout regularization do? It randomly turns off network connections at training time to fight overfitting. This prevents a unit in one layer from relying too strongly on a single unit in the previous layer. Dropout regularization can be interpreted as simultaneously training many \"thinned\" versions of your network. At test, all connections are restored which is analogous to taking an average prediction over all of the \"thinned\" networks. You can see a more complete discussion of dropout regularization in this [paper](https://www.cs.toronto.edu/~hinton/absps/JMLRdropout.pdf).\n",
    "\n",
    "The dropout layer has only one free parameter — the dropout rate — the proportion of connections that are randomly deleted. The default of 0.5 should be fine. Insert a dropout layer between your convolutional layers. In particular, insert it directly before your last convolutional layer. Your test accuracy should increase by another 10%. Your train accuracy should decrease much more slowly. That's to be expected — you're making life much harder for the training algorithm by cutting out connections randomly. \n",
    "\n",
    "If you increase the number of training epochs (and maybe decrease the learning rate) you should be able to achieve around 50% test accuracy. In this part, you are **required** to add dropout layer to your network.\n",
    "\n",
    "Please give detailed descriptions of your network layout in the following format:<br>\n",
    "Data augmentation: [descriptions]<br>\n",
    "Data normalization: [descriptions]<br>\n",
    "Layer 1: [layer_type]: [Parameters]<br>\n",
    "Layer 2: [layer_type]: [Parameters]<br>\n",
    "...<br>\n",
    "Then report the final accuracy on test set and time consumed for training and testing separately.\n",
    "\n",
    "{Part 2: 15 points} Try **three techniques** taught in the class to increase the accuracy of your model. Such as increasing training data by randomly rotating training images, adding batch normalization, different activation functions (e.g., sigmoid) and model architecture modification. Note that too many layers can do you no good due to insufficient training data. Clearly describe your method and accuracy increase/decrease for each of the three techniques."
   ]
  },
  {
   "cell_type": "code",
   "execution_count": 0,
   "metadata": {
    "colab": {},
    "colab_type": "code",
    "id": "VP8-uclz3J1Q"
   },
   "outputs": [],
   "source": [
    "device = torch.device(\"cuda:0\" if torch.cuda.is_available() else \"cpu\")"
   ]
  },
  {
   "cell_type": "code",
   "execution_count": 0,
   "metadata": {
    "colab": {},
    "colab_type": "code",
    "id": "MT40zsRBlJ13"
   },
   "outputs": [],
   "source": [
    "# accuracy in percentage of given network and dataset\n",
    "def evaluate(net, loader):\n",
    "  correct = 0\n",
    "  total = 0\n",
    "  with torch.no_grad():\n",
    "      for data in loader:\n",
    "          \n",
    "          images, labels = data\n",
    "\n",
    "          net = net.to(device)\n",
    "          images, labels = images.to(device), labels.to(device)\n",
    "\n",
    "          outputs = net(images.float())\n",
    "          _, predicted = torch.max(outputs.data, 1)\n",
    "          total += labels.size(0)\n",
    "          correct += (predicted == labels).sum().item()\n",
    "  return 100 * correct / total\n",
    "\n",
    "# to print stats at each epoch during the training\n",
    "def get_stats(net, epoch, criterion, trainloader, testloader, running_loss):\n",
    "  train_minibatches, test_minibatches = len(trainloader), len(testloader)\n",
    "  val_loss = 0.0\n",
    "  for test_i, test_data in enumerate(testloader, 0):\n",
    "    test_inputs, test_labels = test_data\n",
    "\n",
    "    net = net.to(device)\n",
    "    test_inputs, test_labels = test_inputs.to(device), test_labels.to(device)\n",
    "\n",
    "    test_outputs = net(test_inputs.float())\n",
    "    test_loss = criterion(test_outputs, test_labels)\n",
    "    val_loss += test_loss.item()\n",
    "\n",
    "  train_loss = running_loss/train_minibatches\n",
    "  val_loss = val_loss/test_minibatches\n",
    "  train_acc = evaluate(net, trainloader)\n",
    "  val_acc = evaluate(net, testloader)\n",
    "\n",
    "  print('%d => train_loss: %.3f, train_accuracy: %.2f, val_loss: %.3f, val_accuracy: %.2f' % (epoch + 1, train_loss, train_acc, val_loss, val_acc))\n",
    "  return train_loss, train_acc, val_loss, val_acc\n",
    "\n",
    "# to plot graphs\n",
    "def plot(epochs, tr_loss, val_loss, tr_acc, val_acc):\n",
    "  plt.plot(range(1,epochs+1), tr_loss, label = 'TrainLoss')\n",
    "  plt.plot(range(1,epochs+1), val_loss, label = 'ValLoss')\n",
    "  plt.legend()\n",
    "  plt.xlabel('Epochs')\n",
    "  plt.ylabel('Loss')\n",
    "  plt.show()\n",
    "\n",
    "  plt.plot(range(1,epochs+1), tr_acc, label = 'TrainAcc')\n",
    "  plt.plot(range(1,epochs+1), val_acc, label = 'ValAcc')\n",
    "  plt.legend()\n",
    "  plt.xlabel('Epochs')\n",
    "  plt.ylabel('Accuracy')\n",
    "  plt.show()"
   ]
  },
  {
   "cell_type": "markdown",
   "metadata": {
    "colab_type": "text",
    "id": "GFvLUoM6llYP"
   },
   "source": [
    "### **Part 1 (60.00% accuracy, 55 epochs, 32 seconds)**"
   ]
  },
  {
   "cell_type": "code",
   "execution_count": 0,
   "metadata": {
    "colab": {},
    "colab_type": "code",
    "id": "clXaGdwaoIL7"
   },
   "outputs": [],
   "source": [
    "# ==========================================\n",
    "#       Define Network Architecture\n",
    "# ==========================================\n",
    "\n",
    "nclass = 16\n",
    "class Net(nn.Module):\n",
    "    def __init__(self):\n",
    "        super(Net, self).__init__()\n",
    "        self.conv1 = nn.Conv2d(1, 2, 3, 1, 2)\n",
    "        self.pool = nn.MaxPool2d(2, 2)\n",
    "        self.conv2 = nn.Conv2d(2, 16, 3)\n",
    "        self.conv3 = nn.Conv2d(16, 32, 3)\n",
    "        self.drop = nn.Dropout2d(p=0.5)\n",
    "        self.fc1 = nn.Linear(32 * 6 * 6, 576)\n",
    "        self.fc2 = nn.Linear(576, 576)\n",
    "        self.fc3 = nn.Linear(576, nclass)\n",
    "\n",
    "    def forward(self, x):\n",
    "        x = self.conv1(x)\n",
    "        x = self.pool(F.relu(x))\n",
    "        x = self.conv2(x)\n",
    "        x = self.pool(F.relu(x))\n",
    "        x = self.conv3(x)\n",
    "        x = self.pool(F.relu(x))\n",
    "        x = x.view(-1, 32 * 6 * 6)\n",
    "        x = self.drop(x)\n",
    "        x = F.relu(self.fc1(x))\n",
    "        x = self.drop(x)\n",
    "        x = F.relu(self.fc2(x))\n",
    "        x = self.fc3(x)\n",
    "        return x\n",
    "\n",
    "def train(epochs = 50):\n",
    "  \n",
    "  net = Net().float()\n",
    "\n",
    "  net = net.to(device)\n",
    "          \n",
    "  criterion = nn.CrossEntropyLoss()\n",
    "  optimizer = optim.Adam(net.parameters(), lr=0.0005)\n",
    "  train_minibatches = len(trainloader_small)\n",
    "  tr_loss, v_loss, tr_acc, v_acc = [], [], [], []\n",
    "  counter = 0\n",
    "  \n",
    "  for epoch in range(epochs):\n",
    "      net.train()\n",
    "      random.shuffle(trainloader_small)\n",
    "      running_loss = 0.0\n",
    "      for i, data in enumerate(trainloader_small, 0):\n",
    "          inputs, labels = data\n",
    "          inputs, labels = inputs.to(device), labels.to(device)\n",
    "          optimizer.zero_grad()\n",
    "          \n",
    "          outputs = net(inputs.float())\n",
    "          \n",
    "          loss = criterion(outputs, labels)\n",
    "          loss.backward()\n",
    "          optimizer.step()\n",
    "\n",
    "          running_loss += loss.item()\n",
    "          if i % train_minibatches == train_minibatches-1:\n",
    "              net.eval()\n",
    "              train_loss, train_acc, val_loss, val_acc = get_stats(net, epoch, criterion, trainloader_small, testloader_small, running_loss)\n",
    "\n",
    "              tr_loss.append(train_loss)\n",
    "              v_loss.append(val_loss)\n",
    "              tr_acc.append(train_acc)\n",
    "              v_acc.append(val_acc)\n",
    "\n",
    "              running_loss = 0.0\n",
    "  print('Finished Training')\n",
    "  return net, epochs, tr_loss, v_loss, tr_acc, v_acc "
   ]
  },
  {
   "cell_type": "code",
   "execution_count": 0,
   "metadata": {
    "colab": {
     "base_uri": "https://localhost:8080/",
     "height": 1000
    },
    "colab_type": "code",
    "id": "sNJTDG8xoJwH",
    "outputId": "d82d0515-78fd-4d7d-ad7b-cf0178d3d87d"
   },
   "outputs": [
    {
     "name": "stdout",
     "output_type": "stream",
     "text": [
      "1 => train_loss: 2.579, train_accuracy: 28.06, val_loss: 2.268, val_accuracy: 26.75\n",
      "2 => train_loss: 2.102, train_accuracy: 38.73, val_loss: 1.976, val_accuracy: 37.75\n",
      "3 => train_loss: 1.895, train_accuracy: 46.92, val_loss: 1.753, val_accuracy: 41.50\n",
      "4 => train_loss: 1.712, train_accuracy: 49.85, val_loss: 1.688, val_accuracy: 44.50\n",
      "5 => train_loss: 1.604, train_accuracy: 55.52, val_loss: 1.529, val_accuracy: 48.50\n",
      "6 => train_loss: 1.481, train_accuracy: 57.83, val_loss: 1.553, val_accuracy: 46.25\n",
      "7 => train_loss: 1.420, train_accuracy: 62.54, val_loss: 1.460, val_accuracy: 51.50\n",
      "8 => train_loss: 1.386, train_accuracy: 63.90, val_loss: 1.408, val_accuracy: 50.50\n",
      "9 => train_loss: 1.295, train_accuracy: 66.94, val_loss: 1.376, val_accuracy: 53.50\n",
      "10 => train_loss: 1.242, train_accuracy: 68.81, val_loss: 1.328, val_accuracy: 53.25\n",
      "11 => train_loss: 1.190, train_accuracy: 72.25, val_loss: 1.291, val_accuracy: 53.50\n",
      "12 => train_loss: 1.123, train_accuracy: 73.29, val_loss: 1.300, val_accuracy: 57.50\n",
      "13 => train_loss: 1.084, train_accuracy: 75.12, val_loss: 1.313, val_accuracy: 57.00\n",
      "14 => train_loss: 1.048, train_accuracy: 77.02, val_loss: 1.283, val_accuracy: 57.25\n",
      "15 => train_loss: 0.977, train_accuracy: 79.98, val_loss: 1.268, val_accuracy: 58.75\n",
      "16 => train_loss: 0.954, train_accuracy: 81.73, val_loss: 1.277, val_accuracy: 57.00\n",
      "17 => train_loss: 0.903, train_accuracy: 83.71, val_loss: 1.245, val_accuracy: 58.00\n",
      "18 => train_loss: 0.877, train_accuracy: 82.83, val_loss: 1.323, val_accuracy: 53.00\n",
      "19 => train_loss: 0.846, train_accuracy: 86.67, val_loss: 1.275, val_accuracy: 57.75\n",
      "20 => train_loss: 0.801, train_accuracy: 88.48, val_loss: 1.250, val_accuracy: 56.50\n",
      "21 => train_loss: 0.760, train_accuracy: 89.17, val_loss: 1.265, val_accuracy: 59.00\n",
      "22 => train_loss: 0.733, train_accuracy: 90.40, val_loss: 1.240, val_accuracy: 58.75\n",
      "23 => train_loss: 0.724, train_accuracy: 91.69, val_loss: 1.209, val_accuracy: 60.00\n",
      "24 => train_loss: 0.687, train_accuracy: 92.04, val_loss: 1.287, val_accuracy: 59.25\n",
      "25 => train_loss: 0.675, train_accuracy: 93.90, val_loss: 1.189, val_accuracy: 61.25\n",
      "26 => train_loss: 0.616, train_accuracy: 93.46, val_loss: 1.325, val_accuracy: 59.00\n",
      "27 => train_loss: 0.620, train_accuracy: 94.98, val_loss: 1.217, val_accuracy: 59.75\n",
      "28 => train_loss: 0.582, train_accuracy: 95.77, val_loss: 1.271, val_accuracy: 58.75\n",
      "29 => train_loss: 0.550, train_accuracy: 95.48, val_loss: 1.346, val_accuracy: 58.25\n",
      "30 => train_loss: 0.565, train_accuracy: 96.23, val_loss: 1.261, val_accuracy: 59.50\n",
      "31 => train_loss: 0.522, train_accuracy: 96.50, val_loss: 1.370, val_accuracy: 59.25\n",
      "32 => train_loss: 0.504, train_accuracy: 97.17, val_loss: 1.273, val_accuracy: 60.00\n",
      "33 => train_loss: 0.505, train_accuracy: 97.35, val_loss: 1.309, val_accuracy: 59.00\n",
      "34 => train_loss: 0.485, train_accuracy: 97.65, val_loss: 1.270, val_accuracy: 59.50\n",
      "35 => train_loss: 0.474, train_accuracy: 97.81, val_loss: 1.317, val_accuracy: 61.25\n",
      "36 => train_loss: 0.433, train_accuracy: 98.00, val_loss: 1.294, val_accuracy: 63.50\n",
      "37 => train_loss: 0.428, train_accuracy: 98.12, val_loss: 1.293, val_accuracy: 60.25\n",
      "38 => train_loss: 0.410, train_accuracy: 98.62, val_loss: 1.283, val_accuracy: 59.25\n",
      "39 => train_loss: 0.418, train_accuracy: 98.94, val_loss: 1.364, val_accuracy: 60.00\n",
      "40 => train_loss: 0.396, train_accuracy: 98.25, val_loss: 1.420, val_accuracy: 57.75\n",
      "41 => train_loss: 0.408, train_accuracy: 99.10, val_loss: 1.346, val_accuracy: 62.75\n",
      "42 => train_loss: 0.370, train_accuracy: 99.17, val_loss: 1.413, val_accuracy: 59.50\n",
      "43 => train_loss: 0.377, train_accuracy: 98.94, val_loss: 1.327, val_accuracy: 61.50\n",
      "44 => train_loss: 0.367, train_accuracy: 99.21, val_loss: 1.378, val_accuracy: 61.75\n",
      "45 => train_loss: 0.360, train_accuracy: 99.21, val_loss: 1.458, val_accuracy: 59.75\n",
      "46 => train_loss: 0.354, train_accuracy: 99.23, val_loss: 1.429, val_accuracy: 61.75\n",
      "47 => train_loss: 0.339, train_accuracy: 99.50, val_loss: 1.467, val_accuracy: 60.75\n",
      "48 => train_loss: 0.327, train_accuracy: 99.25, val_loss: 1.436, val_accuracy: 59.25\n",
      "49 => train_loss: 0.326, train_accuracy: 99.27, val_loss: 1.377, val_accuracy: 63.75\n",
      "50 => train_loss: 0.327, train_accuracy: 99.44, val_loss: 1.346, val_accuracy: 64.00\n",
      "51 => train_loss: 0.314, train_accuracy: 99.38, val_loss: 1.470, val_accuracy: 60.00\n",
      "52 => train_loss: 0.317, train_accuracy: 99.54, val_loss: 1.440, val_accuracy: 62.00\n",
      "53 => train_loss: 0.298, train_accuracy: 99.58, val_loss: 1.399, val_accuracy: 61.50\n",
      "54 => train_loss: 0.284, train_accuracy: 99.77, val_loss: 1.424, val_accuracy: 60.50\n",
      "55 => train_loss: 0.280, train_accuracy: 99.48, val_loss: 1.439, val_accuracy: 60.00\n",
      "Finished Training\n",
      "Training completed in 0m 32s\n"
     ]
    },
    {
     "data": {
      "image/png": "[encoded data removed]",
      "text/plain": [
       "<Figure size 432x288 with 1 Axes>"
      ]
     },
     "metadata": {
      "tags": []
     },
     "output_type": "display_data"
    },
    {
     "data": {
      "image/png": "[encoded data removed]",
      "text/plain": [
       "<Figure size 432x288 with 1 Axes>"
      ]
     },
     "metadata": {
      "tags": []
     },
     "output_type": "display_data"
    }
   ],
   "source": [
    "# ==========================================\n",
    "#         Optimize/Train Network\n",
    "# ==========================================\n",
    "since = time.time()\n",
    "net, epochs, tr_loss, val_loss, tr_acc, val_acc = train(epochs=55)\n",
    "time_elapsed = time.time() - since\n",
    "print('Training completed in {:.0f}m {:.0f}s'.format(\n",
    "    time_elapsed // 60, time_elapsed % 60))\n",
    "plot(epochs, tr_loss, val_loss, tr_acc, val_acc)"
   ]
  },
  {
   "cell_type": "code",
   "execution_count": 0,
   "metadata": {
    "colab": {
     "base_uri": "https://localhost:8080/",
     "height": 52
    },
    "colab_type": "code",
    "id": "h20DdG-lN54v",
    "outputId": "55db90e9-f780-48b3-a5f2-11848de8088f"
   },
   "outputs": [
    {
     "name": "stdout",
     "output_type": "stream",
     "text": [
      "Evaluating completed in 0m 0s\n",
      "Accuracy on test dataset 60.0 %\n"
     ]
    }
   ],
   "source": [
    "# ==========================================\n",
    "#            Evaluating Network\n",
    "# ==========================================\n",
    "since = time.time()\n",
    "\n",
    "acc = evaluate(net, testloader_small)\n",
    "\n",
    "time_elapsed = time.time() - since\n",
    "print('Evaluating completed in {:.0f}m {:.0f}s'.format(\n",
    "    time_elapsed // 60, time_elapsed % 60))\n",
    "\n",
    "print(\"Accuracy on test dataset\", acc, \"%\")\n"
   ]
  },
  {
   "cell_type": "markdown",
   "metadata": {
    "colab_type": "text",
    "id": "A5JGQeR-bTvz"
   },
   "source": [
    "**Description!**\n",
    "*   Data augmentation: Each image is flipped at axis 1 using numpy and appended to the dataset, all the labels are appened again in labels as labels will remain same even after flipping images.\n",
    "*   Data normalization: Each image array values are subtracted and divided by that particular image's mean and standard deviation respectively. From experience, such normalization is really helpful.\n",
    "\n",
    "```\n",
    "1.   [Convolution1] InputF: 1, OutputF: 2, KernelSize: 3, Padding: 2\n",
    "2.   [Activation] RELU\n",
    "3.   [Pooling] Maxpooling by size 2\n",
    "\n",
    "4.   [Convolution2] InputF: 2, OutputF: 16, KernelSize: 3\n",
    "5.   [Activation] RELU\n",
    "6.   [Pooling] Maxpooling by size 2\n",
    "\n",
    "6.   [Convolution2] InputF: 16, OutputF: 32, KernelSize: 3\n",
    "7.   [Activation] RELU\n",
    "8.   [Pooling] Maxpooling by size 2\n",
    "\n",
    "9.   [Dropout] p = 0.5\n",
    "\n",
    "10.  [FC]  InputF: 1152, OutputF: 576\n",
    "11.  [Activation] RELU\n",
    "\n",
    "12.   [Dropout] p = 0.5\n",
    "\n",
    "13.  [FC]  InputF: 576, OutputF: 576\n",
    "14.  [Activation] RELU\n",
    "\n",
    "15.  [FC]  InputF: 576, OutputF: 16\n",
    "```\n",
    "\n",
    "> Training Time: **32 seconds**; \n",
    "Testing Time: **0 seconds (< 0 ms)**; \n",
    "Accuracy on Test set: **60.00%**\n",
    " \n",
    "\n",
    "\n",
    "\n"
   ]
  },
  {
   "cell_type": "markdown",
   "metadata": {
    "colab_type": "text",
    "id": "NyoqSRoLlokV"
   },
   "source": [
    "### **Part 2** Experiments with three techniques!"
   ]
  },
  {
   "cell_type": "markdown",
   "metadata": {
    "colab_type": "text",
    "id": "4uBC6I9FlxUN"
   },
   "source": [
    "#### **1) Randomly Rotating Training Image (62% accuracy, 55 epochs, 2 minutes 18 seconds)**"
   ]
  },
  {
   "cell_type": "code",
   "execution_count": 13,
   "metadata": {
    "colab": {
     "base_uri": "https://localhost:8080/",
     "height": 871
    },
    "colab_type": "code",
    "id": "mlfrPBbDoq4r",
    "outputId": "5f4c5f5e-8ce7-4f56-97dc-254685169640"
   },
   "outputs": [
    {
     "name": "stdout",
     "output_type": "stream",
     "text": [
      "Loading images from class: 0\n",
      "Loading images from class: 1\n",
      "Loading images from class: 2\n",
      "Loading images from class: 3\n",
      "Loading images from class: 4\n",
      "Loading images from class: 5\n",
      "Loading images from class: 6\n",
      "Loading images from class: 7\n",
      "Loading images from class: 8\n",
      "Loading images from class: 9\n",
      "Loading images from class: 10\n",
      "Loading images from class: 11\n",
      "Loading images from class: 12\n",
      "Loading images from class: 13\n",
      "Loading images from class: 14\n",
      "Loading images from class: 15\n",
      "Loading images from class: 16\n"
     ]
    },
    {
     "data": {
      "image/png": "[encoded data removed]",
      "text/plain": [
       "<Figure size 432x288 with 1 Axes>"
      ]
     },
     "metadata": {
      "tags": []
     },
     "output_type": "display_data"
    },
    {
     "data": {
      "image/png": "[encoded data removed]",
      "text/plain": [
       "<Figure size 432x288 with 1 Axes>"
      ]
     },
     "metadata": {
      "tags": []
     },
     "output_type": "display_data"
    },
    {
     "name": "stdout",
     "output_type": "stream",
     "text": [
      "9600\n",
      "50\n",
      "Finish loading 192 minibatches(=50) of training samples.\n"
     ]
    }
   ],
   "source": [
    "# load data into size (64, 64)\n",
    "img_size = (64, 64)\n",
    "batch_num = 50 # training sample number per batch\n",
    "\n",
    "# load training dataset\n",
    "trainloader_aug = list(load_dataset('./data/train/', img_size, batch_num=batch_num, shuffle=True, \n",
    "                                      augment=True, zero_centered=True, random_augment=True))\n",
    "train_num = len(trainloader_aug)\n",
    "print(\"Finish loading %d minibatches(=%d) of training samples.\" % (train_num, batch_num))"
   ]
  },
  {
   "cell_type": "code",
   "execution_count": 0,
   "metadata": {
    "colab": {},
    "colab_type": "code",
    "id": "IOZ1xz76XQW2"
   },
   "outputs": [],
   "source": [
    "# ==========================================\n",
    "#       Define Network Architecture\n",
    "# ==========================================\n",
    "\n",
    "nclass = 16\n",
    "class Net(nn.Module):\n",
    "    def __init__(self):\n",
    "        super(Net, self).__init__()\n",
    "        self.conv1 = nn.Conv2d(1, 2, 3, 1, 2)\n",
    "        self.pool = nn.MaxPool2d(2, 2)\n",
    "        self.conv2 = nn.Conv2d(2, 16, 3)\n",
    "        self.conv3 = nn.Conv2d(16, 32, 3)\n",
    "        self.drop = nn.Dropout2d(p=0.5)\n",
    "        self.fc1 = nn.Linear(32 * 6 * 6, 576)\n",
    "        self.fc2 = nn.Linear(576, 576)\n",
    "        self.fc3 = nn.Linear(576, nclass)\n",
    "\n",
    "    def forward(self, x):\n",
    "        x = self.conv1(x)\n",
    "        x = self.pool(F.relu(x))\n",
    "        x = self.conv2(x)\n",
    "        x = self.pool(F.relu(x))\n",
    "        x = self.conv3(x)\n",
    "        x = self.pool(F.relu(x))\n",
    "        x = x.view(-1, 32 * 6 * 6)\n",
    "        x = self.drop(x)\n",
    "        x = F.relu(self.fc1(x))\n",
    "        x = self.drop(x)\n",
    "        x = F.relu(self.fc2(x))\n",
    "        x = self.fc3(x)\n",
    "        return x\n",
    "\n",
    "def train(epochs = 50):\n",
    "  \n",
    "  net = Net().float()\n",
    "  net = net.to(device)\n",
    "  criterion = nn.CrossEntropyLoss()\n",
    "  optimizer = optim.Adam(net.parameters(), lr=0.0005)\n",
    "  train_minibatches = len(trainloader_aug)\n",
    "  tr_loss, v_loss, tr_acc, v_acc = [], [], [], []\n",
    "  counter = 0\n",
    "\n",
    "  for epoch in range(epochs):\n",
    "      net.train()\n",
    "      random.shuffle(trainloader_aug)\n",
    "      running_loss = 0.0\n",
    "      for i, data in enumerate(trainloader_aug, 0):\n",
    "          inputs, labels = data\n",
    "          inputs, labels = inputs.to(device), labels.to(device)\n",
    "          optimizer.zero_grad()\n",
    "          \n",
    "          outputs = net(inputs.float())\n",
    "          \n",
    "          loss = criterion(outputs, labels)\n",
    "          loss.backward()\n",
    "          optimizer.step()\n",
    "\n",
    "          running_loss += loss.item()\n",
    "          if i % train_minibatches == train_minibatches-1:\n",
    "              net.eval()\n",
    "              train_loss, train_acc, val_loss, val_acc = get_stats(net, epoch, criterion, trainloader_aug, testloader_small, running_loss)\n",
    "\n",
    "              tr_loss.append(train_loss)\n",
    "              v_loss.append(val_loss)\n",
    "              tr_acc.append(train_acc)\n",
    "              v_acc.append(val_acc)\n",
    "\n",
    "              running_loss = 0.0\n",
    "  print('Finished Training')\n",
    "  return net, epochs, tr_loss, v_loss, tr_acc, v_acc "
   ]
  },
  {
   "cell_type": "code",
   "execution_count": 15,
   "metadata": {
    "colab": {
     "base_uri": "https://localhost:8080/",
     "height": 1000
    },
    "colab_type": "code",
    "id": "ELT6RuGVmLk0",
    "outputId": "6b11415a-4677-4561-cd78-9bd79c8c3ad7"
   },
   "outputs": [
    {
     "name": "stdout",
     "output_type": "stream",
     "text": [
      "1 => train_loss: 2.602, train_accuracy: 23.53, val_loss: 2.340, val_accuracy: 27.50\n",
      "2 => train_loss: 2.343, train_accuracy: 31.05, val_loss: 2.055, val_accuracy: 33.00\n",
      "3 => train_loss: 2.166, train_accuracy: 37.57, val_loss: 1.836, val_accuracy: 39.75\n",
      "4 => train_loss: 2.045, train_accuracy: 40.82, val_loss: 1.768, val_accuracy: 41.25\n",
      "5 => train_loss: 1.944, train_accuracy: 43.09, val_loss: 1.695, val_accuracy: 40.50\n",
      "6 => train_loss: 1.856, train_accuracy: 47.52, val_loss: 1.605, val_accuracy: 47.25\n",
      "7 => train_loss: 1.783, train_accuracy: 51.70, val_loss: 1.495, val_accuracy: 50.50\n",
      "8 => train_loss: 1.706, train_accuracy: 54.25, val_loss: 1.445, val_accuracy: 54.25\n",
      "9 => train_loss: 1.654, train_accuracy: 56.01, val_loss: 1.421, val_accuracy: 54.25\n",
      "10 => train_loss: 1.611, train_accuracy: 58.79, val_loss: 1.360, val_accuracy: 55.75\n",
      "11 => train_loss: 1.547, train_accuracy: 59.40, val_loss: 1.419, val_accuracy: 52.00\n",
      "12 => train_loss: 1.494, train_accuracy: 62.88, val_loss: 1.351, val_accuracy: 55.50\n",
      "13 => train_loss: 1.461, train_accuracy: 65.97, val_loss: 1.343, val_accuracy: 60.50\n",
      "14 => train_loss: 1.423, train_accuracy: 68.55, val_loss: 1.273, val_accuracy: 61.25\n",
      "15 => train_loss: 1.365, train_accuracy: 70.07, val_loss: 1.284, val_accuracy: 59.50\n",
      "16 => train_loss: 1.314, train_accuracy: 70.49, val_loss: 1.345, val_accuracy: 59.50\n",
      "17 => train_loss: 1.286, train_accuracy: 71.65, val_loss: 1.354, val_accuracy: 56.50\n",
      "18 => train_loss: 1.249, train_accuracy: 75.73, val_loss: 1.246, val_accuracy: 59.75\n",
      "19 => train_loss: 1.209, train_accuracy: 78.06, val_loss: 1.238, val_accuracy: 61.00\n",
      "20 => train_loss: 1.183, train_accuracy: 80.03, val_loss: 1.303, val_accuracy: 59.75\n",
      "21 => train_loss: 1.142, train_accuracy: 80.31, val_loss: 1.290, val_accuracy: 60.25\n",
      "22 => train_loss: 1.118, train_accuracy: 83.67, val_loss: 1.241, val_accuracy: 59.00\n",
      "23 => train_loss: 1.087, train_accuracy: 83.68, val_loss: 1.311, val_accuracy: 57.00\n",
      "24 => train_loss: 1.066, train_accuracy: 84.67, val_loss: 1.291, val_accuracy: 59.50\n",
      "25 => train_loss: 1.042, train_accuracy: 86.11, val_loss: 1.254, val_accuracy: 60.25\n",
      "26 => train_loss: 1.021, train_accuracy: 88.32, val_loss: 1.262, val_accuracy: 59.75\n",
      "27 => train_loss: 0.991, train_accuracy: 88.35, val_loss: 1.254, val_accuracy: 61.00\n",
      "28 => train_loss: 0.982, train_accuracy: 89.27, val_loss: 1.236, val_accuracy: 58.25\n",
      "29 => train_loss: 0.965, train_accuracy: 90.57, val_loss: 1.229, val_accuracy: 61.75\n",
      "30 => train_loss: 0.929, train_accuracy: 91.19, val_loss: 1.257, val_accuracy: 60.25\n",
      "31 => train_loss: 0.911, train_accuracy: 91.80, val_loss: 1.264, val_accuracy: 59.75\n",
      "32 => train_loss: 0.880, train_accuracy: 92.65, val_loss: 1.219, val_accuracy: 60.00\n",
      "33 => train_loss: 0.870, train_accuracy: 92.12, val_loss: 1.256, val_accuracy: 59.25\n",
      "34 => train_loss: 0.857, train_accuracy: 93.52, val_loss: 1.309, val_accuracy: 61.75\n",
      "35 => train_loss: 0.839, train_accuracy: 93.76, val_loss: 1.289, val_accuracy: 60.75\n",
      "36 => train_loss: 0.828, train_accuracy: 94.82, val_loss: 1.263, val_accuracy: 60.50\n",
      "37 => train_loss: 0.812, train_accuracy: 93.88, val_loss: 1.376, val_accuracy: 58.75\n",
      "38 => train_loss: 0.790, train_accuracy: 94.91, val_loss: 1.337, val_accuracy: 61.25\n",
      "39 => train_loss: 0.794, train_accuracy: 95.55, val_loss: 1.273, val_accuracy: 59.75\n",
      "40 => train_loss: 0.759, train_accuracy: 95.49, val_loss: 1.355, val_accuracy: 59.75\n",
      "41 => train_loss: 0.751, train_accuracy: 95.88, val_loss: 1.318, val_accuracy: 60.00\n",
      "42 => train_loss: 0.726, train_accuracy: 96.38, val_loss: 1.341, val_accuracy: 57.50\n",
      "43 => train_loss: 0.728, train_accuracy: 96.66, val_loss: 1.377, val_accuracy: 61.00\n",
      "44 => train_loss: 0.719, train_accuracy: 96.66, val_loss: 1.391, val_accuracy: 59.75\n",
      "45 => train_loss: 0.697, train_accuracy: 97.27, val_loss: 1.343, val_accuracy: 61.00\n",
      "46 => train_loss: 0.678, train_accuracy: 97.45, val_loss: 1.376, val_accuracy: 57.75\n",
      "47 => train_loss: 0.672, train_accuracy: 97.80, val_loss: 1.330, val_accuracy: 60.25\n",
      "48 => train_loss: 0.667, train_accuracy: 98.03, val_loss: 1.345, val_accuracy: 61.75\n",
      "49 => train_loss: 0.656, train_accuracy: 98.06, val_loss: 1.371, val_accuracy: 59.50\n",
      "50 => train_loss: 0.654, train_accuracy: 98.17, val_loss: 1.416, val_accuracy: 58.75\n",
      "51 => train_loss: 0.660, train_accuracy: 98.01, val_loss: 1.416, val_accuracy: 56.75\n",
      "52 => train_loss: 0.635, train_accuracy: 98.09, val_loss: 1.409, val_accuracy: 59.00\n",
      "53 => train_loss: 0.644, train_accuracy: 98.43, val_loss: 1.373, val_accuracy: 58.75\n",
      "54 => train_loss: 0.611, train_accuracy: 98.61, val_loss: 1.388, val_accuracy: 57.50\n",
      "55 => train_loss: 0.599, train_accuracy: 98.89, val_loss: 1.392, val_accuracy: 57.75\n",
      "Finished Training\n",
      "Training completed in 2m 18s\n"
     ]
    },
    {
     "data": {
      "image/png": "[encoded data removed]",
      "text/plain": [
       "<Figure size 432x288 with 1 Axes>"
      ]
     },
     "metadata": {
      "tags": []
     },
     "output_type": "display_data"
    },
    {
     "data": {
      "image/png": "[encoded data removed]",
      "text/plain": [
       "<Figure size 432x288 with 1 Axes>"
      ]
     },
     "metadata": {
      "tags": []
     },
     "output_type": "display_data"
    }
   ],
   "source": [
    "# ==========================================\n",
    "#         Optimize/Train Network\n",
    "# ==========================================\n",
    "since = time.time()\n",
    "net, epochs, tr_loss, val_loss, tr_acc, val_acc = train(epochs=55)\n",
    "time_elapsed = time.time() - since\n",
    "print('Training completed in {:.0f}m {:.0f}s'.format(\n",
    "    time_elapsed // 60, time_elapsed % 60))\n",
    "plot(epochs, tr_loss, val_loss, tr_acc, val_acc)"
   ]
  },
  {
   "cell_type": "code",
   "execution_count": 19,
   "metadata": {
    "colab": {
     "base_uri": "https://localhost:8080/",
     "height": 52
    },
    "colab_type": "code",
    "id": "lLnPGaZQprOs",
    "outputId": "aec67a41-d948-40a3-cc96-60ac61d6c9b7"
   },
   "outputs": [
    {
     "name": "stdout",
     "output_type": "stream",
     "text": [
      "Evaluating completed in 0m 0s\n",
      "Accuracy on test dataset 62.0 %\n"
     ]
    }
   ],
   "source": [
    "# ==========================================\n",
    "#            Evaluating Network\n",
    "# ==========================================\n",
    "since = time.time()\n",
    "\n",
    "acc = evaluate(net, testloader_small)\n",
    "\n",
    "time_elapsed = time.time() - since\n",
    "print('Evaluating completed in {:.0f}m {:.0f}s'.format(\n",
    "    time_elapsed // 60, time_elapsed % 60))\n",
    "\n",
    "print(\"Accuracy on test dataset\", acc, \"%\")\n"
   ]
  },
  {
   "cell_type": "markdown",
   "metadata": {
    "colab_type": "text",
    "id": "NYoKYQLdCC_8"
   },
   "source": [
    "**Description!**\n",
    "\n",
    "\n",
    "> This was the code of random augmentation.\n",
    "\n",
    "\n",
    "```\n",
    "sometimes = lambda aug: iaa.Sometimes(0.5, aug)\n",
    "seq = iaa.Sequential([\n",
    "    sometimes(iaa.AffineCv2(rotate=np.random.choice(range(5,85,5)))),\n",
    "    iaa.Crop(px=(1, 24), keep_size=True)\n",
    "])\n",
    "aug_data = seq(images=data)\n",
    "```\n",
    "\n",
    "\n",
    "> Here, I am applying **Affine transformation** with random rotation from list of angles [5,85] (increased by 5) with occuring probability of 50%. Then **zooming** is done upto 24 size from 64 size of image keeping same image size(interpolated). I explored the test data and training data, where primary objects were nearer or far, they had a perspective transformation effect and many more. Therefore, this augmentation looked good to me to begin with.\n",
    "With **only a change of dataset in configuration of part 1**, performance improved upto **62%**!\n",
    "\n",
    "\n"
   ]
  },
  {
   "cell_type": "markdown",
   "metadata": {
    "colab_type": "text",
    "id": "dQm-VRWDl1Ny"
   },
   "source": [
    "#### **2) Adding Batch Normalization (63.25 % accuracy, 55 epochs, 32 seconds)**"
   ]
  },
  {
   "cell_type": "code",
   "execution_count": 0,
   "metadata": {
    "colab": {},
    "colab_type": "code",
    "id": "Ih-RexPEXUnW"
   },
   "outputs": [],
   "source": [
    "# ==========================================\n",
    "#       Define Network Architecture\n",
    "# ==========================================\n",
    "\n",
    "nclass = 16\n",
    "class Net(nn.Module):\n",
    "    def __init__(self):\n",
    "        super(Net, self).__init__()\n",
    "        self.conv1 = nn.Conv2d(1, 2, 3, 1, 2)\n",
    "        self.pool = nn.MaxPool2d(2, 2)\n",
    "        self.BN1 = nn.BatchNorm2d(2)\n",
    "        self.conv2 = nn.Conv2d(2, 16, 3)\n",
    "        self.BN2 = nn.BatchNorm2d(16)\n",
    "        self.conv3 = nn.Conv2d(16, 32, 3)\n",
    "        self.BN3 = nn.BatchNorm2d(32)\n",
    "        self.drop = nn.Dropout2d(p=0.5)\n",
    "        self.fc1 = nn.Linear(32 * 6 * 6, 576)\n",
    "        self.fc2 = nn.Linear(576, 576)\n",
    "        self.fc3 = nn.Linear(576, nclass)\n",
    "\n",
    "    def forward(self, x):\n",
    "        x = self.conv1(x)\n",
    "        x = F.relu(x)\n",
    "        x = self.BN1(x) # added\n",
    "        x = self.pool(x)\n",
    "        x = self.conv2(x)\n",
    "        x = F.relu(x)\n",
    "        x = self.BN2(x) # added\n",
    "        x = self.pool(x)\n",
    "        x = self.conv3(x)\n",
    "        x = F.relu(x)\n",
    "        x = self.BN3(x) # added\n",
    "        x = self.pool(x)\n",
    "        x = x.view(-1, 32 * 6 * 6)\n",
    "        x = F.relu(self.fc1(x))\n",
    "        x = self.drop(x)\n",
    "        x = F.relu(self.fc2(x))\n",
    "        x = self.fc3(x)\n",
    "        return x\n",
    "\n",
    "\n",
    "def train(epochs = 50):\n",
    "  \n",
    "  net = Net().float()\n",
    "  net = net.to(device)\n",
    "  criterion = nn.CrossEntropyLoss()\n",
    "  optimizer = optim.SGD(net.parameters(), lr=0.001, momentum=0.9) # changed\n",
    "  train_minibatches = len(trainloader_small)\n",
    "  tr_loss, v_loss, tr_acc, v_acc = [], [], [], []\n",
    "  counter = 0\n",
    "\n",
    "  for epoch in range(epochs):\n",
    "      net.train()\n",
    "      random.shuffle(trainloader_small)\n",
    "      running_loss = 0.0\n",
    "      for i, data in enumerate(trainloader_small, 0):\n",
    "          inputs, labels = data\n",
    "          inputs, labels = inputs.to(device), labels.to(device)\n",
    "          optimizer.zero_grad()\n",
    "          \n",
    "          outputs = net(inputs.float())\n",
    "          \n",
    "          loss = criterion(outputs, labels)\n",
    "          loss.backward()\n",
    "          optimizer.step()\n",
    "\n",
    "          running_loss += loss.item()\n",
    "          if i % train_minibatches == train_minibatches-1:\n",
    "              net.eval()\n",
    "              train_loss, train_acc, val_loss, val_acc = get_stats(net, epoch, criterion, trainloader_small, testloader_small, running_loss)\n",
    "\n",
    "              tr_loss.append(train_loss)\n",
    "              v_loss.append(val_loss)\n",
    "              tr_acc.append(train_acc)\n",
    "              v_acc.append(val_acc)\n",
    "\n",
    "              running_loss = 0.0\n",
    "  print('Finished Training')\n",
    "  return net, epochs, tr_loss, v_loss, tr_acc, v_acc "
   ]
  },
  {
   "cell_type": "code",
   "execution_count": 0,
   "metadata": {
    "colab": {
     "base_uri": "https://localhost:8080/",
     "height": 1000
    },
    "colab_type": "code",
    "id": "D0sPpdNUmOGV",
    "outputId": "0f75545b-e132-4f25-ad0b-ad64ae1013bd"
   },
   "outputs": [
    {
     "name": "stdout",
     "output_type": "stream",
     "text": [
      "1 => train_loss: 2.723, train_accuracy: 20.77, val_loss: 2.659, val_accuracy: 16.25\n",
      "2 => train_loss: 2.538, train_accuracy: 28.69, val_loss: 2.443, val_accuracy: 26.50\n",
      "3 => train_loss: 2.283, train_accuracy: 37.06, val_loss: 2.124, val_accuracy: 34.75\n",
      "4 => train_loss: 2.026, train_accuracy: 42.10, val_loss: 1.900, val_accuracy: 39.00\n",
      "5 => train_loss: 1.841, train_accuracy: 47.31, val_loss: 1.757, val_accuracy: 46.00\n",
      "6 => train_loss: 1.680, train_accuracy: 52.25, val_loss: 1.640, val_accuracy: 47.00\n",
      "7 => train_loss: 1.548, train_accuracy: 56.81, val_loss: 1.556, val_accuracy: 51.25\n",
      "8 => train_loss: 1.424, train_accuracy: 61.65, val_loss: 1.428, val_accuracy: 54.25\n",
      "9 => train_loss: 1.314, train_accuracy: 63.96, val_loss: 1.363, val_accuracy: 55.00\n",
      "10 => train_loss: 1.240, train_accuracy: 66.54, val_loss: 1.327, val_accuracy: 57.75\n",
      "11 => train_loss: 1.152, train_accuracy: 64.79, val_loss: 1.445, val_accuracy: 54.25\n",
      "12 => train_loss: 1.098, train_accuracy: 69.67, val_loss: 1.312, val_accuracy: 56.00\n",
      "13 => train_loss: 1.040, train_accuracy: 73.88, val_loss: 1.233, val_accuracy: 61.75\n",
      "14 => train_loss: 0.976, train_accuracy: 74.65, val_loss: 1.227, val_accuracy: 60.75\n",
      "15 => train_loss: 0.918, train_accuracy: 71.44, val_loss: 1.365, val_accuracy: 55.25\n",
      "16 => train_loss: 0.859, train_accuracy: 76.10, val_loss: 1.261, val_accuracy: 58.50\n",
      "17 => train_loss: 0.821, train_accuracy: 81.15, val_loss: 1.222, val_accuracy: 61.00\n",
      "18 => train_loss: 0.761, train_accuracy: 81.00, val_loss: 1.261, val_accuracy: 61.25\n",
      "19 => train_loss: 0.719, train_accuracy: 84.60, val_loss: 1.239, val_accuracy: 60.75\n",
      "20 => train_loss: 0.675, train_accuracy: 84.42, val_loss: 1.329, val_accuracy: 58.00\n",
      "21 => train_loss: 0.635, train_accuracy: 83.56, val_loss: 1.371, val_accuracy: 59.50\n",
      "22 => train_loss: 0.587, train_accuracy: 88.46, val_loss: 1.285, val_accuracy: 60.00\n",
      "23 => train_loss: 0.541, train_accuracy: 87.75, val_loss: 1.282, val_accuracy: 60.75\n",
      "24 => train_loss: 0.498, train_accuracy: 92.23, val_loss: 1.291, val_accuracy: 63.75\n",
      "25 => train_loss: 0.466, train_accuracy: 92.12, val_loss: 1.333, val_accuracy: 62.75\n",
      "26 => train_loss: 0.428, train_accuracy: 92.58, val_loss: 1.380, val_accuracy: 60.25\n",
      "27 => train_loss: 0.395, train_accuracy: 95.31, val_loss: 1.321, val_accuracy: 61.75\n",
      "28 => train_loss: 0.353, train_accuracy: 95.81, val_loss: 1.327, val_accuracy: 63.25\n",
      "29 => train_loss: 0.328, train_accuracy: 95.31, val_loss: 1.461, val_accuracy: 60.25\n",
      "30 => train_loss: 0.313, train_accuracy: 97.12, val_loss: 1.381, val_accuracy: 63.25\n",
      "31 => train_loss: 0.289, train_accuracy: 97.19, val_loss: 1.425, val_accuracy: 62.75\n",
      "32 => train_loss: 0.257, train_accuracy: 98.10, val_loss: 1.477, val_accuracy: 62.50\n",
      "33 => train_loss: 0.244, train_accuracy: 98.12, val_loss: 1.498, val_accuracy: 61.75\n",
      "34 => train_loss: 0.224, train_accuracy: 98.56, val_loss: 1.547, val_accuracy: 62.00\n",
      "35 => train_loss: 0.200, train_accuracy: 99.02, val_loss: 1.469, val_accuracy: 63.00\n",
      "36 => train_loss: 0.199, train_accuracy: 98.69, val_loss: 1.533, val_accuracy: 60.00\n",
      "37 => train_loss: 0.183, train_accuracy: 99.21, val_loss: 1.574, val_accuracy: 61.25\n",
      "38 => train_loss: 0.161, train_accuracy: 99.38, val_loss: 1.594, val_accuracy: 59.75\n",
      "39 => train_loss: 0.152, train_accuracy: 98.35, val_loss: 1.616, val_accuracy: 63.25\n",
      "40 => train_loss: 0.149, train_accuracy: 98.29, val_loss: 1.746, val_accuracy: 62.75\n",
      "41 => train_loss: 0.126, train_accuracy: 99.25, val_loss: 1.679, val_accuracy: 61.75\n",
      "42 => train_loss: 0.113, train_accuracy: 99.54, val_loss: 1.631, val_accuracy: 62.50\n",
      "43 => train_loss: 0.112, train_accuracy: 99.38, val_loss: 1.668, val_accuracy: 62.25\n",
      "44 => train_loss: 0.112, train_accuracy: 99.56, val_loss: 1.705, val_accuracy: 62.25\n",
      "45 => train_loss: 0.099, train_accuracy: 98.62, val_loss: 1.838, val_accuracy: 60.50\n",
      "46 => train_loss: 0.083, train_accuracy: 99.83, val_loss: 1.740, val_accuracy: 61.25\n",
      "47 => train_loss: 0.092, train_accuracy: 99.85, val_loss: 1.751, val_accuracy: 62.00\n",
      "48 => train_loss: 0.084, train_accuracy: 99.83, val_loss: 1.688, val_accuracy: 62.50\n",
      "49 => train_loss: 0.080, train_accuracy: 99.85, val_loss: 1.745, val_accuracy: 61.75\n",
      "50 => train_loss: 0.067, train_accuracy: 99.96, val_loss: 1.780, val_accuracy: 62.25\n",
      "51 => train_loss: 0.073, train_accuracy: 99.81, val_loss: 1.815, val_accuracy: 60.25\n",
      "52 => train_loss: 0.062, train_accuracy: 99.85, val_loss: 1.860, val_accuracy: 63.25\n",
      "53 => train_loss: 0.061, train_accuracy: 99.96, val_loss: 1.788, val_accuracy: 60.25\n",
      "54 => train_loss: 0.055, train_accuracy: 99.90, val_loss: 1.806, val_accuracy: 62.50\n",
      "55 => train_loss: 0.052, train_accuracy: 99.94, val_loss: 1.898, val_accuracy: 63.25\n",
      "Finished Training\n",
      "Training completed in 0m 32s\n"
     ]
    },
    {
     "data": {
      "image/png": "[encoded data removed]",
      "text/plain": [
       "<Figure size 432x288 with 1 Axes>"
      ]
     },
     "metadata": {
      "tags": []
     },
     "output_type": "display_data"
    },
    {
     "data": {
      "image/png": "[encoded data removed]",
      "text/plain": [
       "<Figure size 432x288 with 1 Axes>"
      ]
     },
     "metadata": {
      "tags": []
     },
     "output_type": "display_data"
    }
   ],
   "source": [
    "# ==========================================\n",
    "#         Optimize/Train Network\n",
    "# ==========================================\n",
    "since = time.time()\n",
    "net, epochs, tr_loss, val_loss, tr_acc, val_acc = train(epochs=55)\n",
    "time_elapsed = time.time() - since\n",
    "print('Training completed in {:.0f}m {:.0f}s'.format(\n",
    "    time_elapsed // 60, time_elapsed % 60))\n",
    "plot(epochs, tr_loss, val_loss, tr_acc, val_acc)"
   ]
  },
  {
   "cell_type": "code",
   "execution_count": 0,
   "metadata": {
    "colab": {
     "base_uri": "https://localhost:8080/",
     "height": 52
    },
    "colab_type": "code",
    "id": "iWfz2IhlN-ly",
    "outputId": "00630cf3-2f55-4fee-86ae-f9af480e9312"
   },
   "outputs": [
    {
     "name": "stdout",
     "output_type": "stream",
     "text": [
      "Evaluating completed in 0m 0s\n",
      "Accuracy on test dataset 63.25 %\n"
     ]
    }
   ],
   "source": [
    "# ==========================================\n",
    "#            Evaluating Network\n",
    "# ==========================================\n",
    "since = time.time()\n",
    "\n",
    "acc = evaluate(net, testloader_small)\n",
    "\n",
    "time_elapsed = time.time() - since\n",
    "print('Evaluating completed in {:.0f}m {:.0f}s'.format(\n",
    "    time_elapsed // 60, time_elapsed % 60))\n",
    "\n",
    "print(\"Accuracy on test dataset\", acc, \"%\")\n"
   ]
  },
  {
   "cell_type": "markdown",
   "metadata": {
    "colab_type": "text",
    "id": "MxGPT0cFF9gt"
   },
   "source": [
    "**Description!**\n",
    "\n",
    "\n",
    "> In part 1, model got overfitting at a point, so to reduce overfitting dropout layers were used. However, batch normalization layer also provides regularization efficiently. In this approach, I added **3 batchNorm layers** right after activation layers of 3 convolution layers. I also changed **optimizer to SGD** with a momentum usage (Optimizer was Adam earlier). Training on **same dataset as of part 1** with only these 2 changes, improved performance upto **63.25%**. Here I believe, modifying few parameters of layers could perform even better than this.\n",
    "\n"
   ]
  },
  {
   "cell_type": "markdown",
   "metadata": {
    "colab_type": "text",
    "id": "WKH0IGvel-Hq"
   },
   "source": [
    "#### **3) Trying Different Activation Function (SELU - 62% accuracy, 55 epochs, 2 minutes 15 seconds)**"
   ]
  },
  {
   "cell_type": "code",
   "execution_count": 0,
   "metadata": {
    "colab": {},
    "colab_type": "code",
    "id": "hFKo5tkjgJFE"
   },
   "outputs": [],
   "source": [
    "# ==========================================\n",
    "#       Define Network Architecture\n",
    "# ==========================================\n",
    "\n",
    "nclass = 16\n",
    "class Net(nn.Module):\n",
    "    def __init__(self):\n",
    "        super(Net, self).__init__()\n",
    "        self.conv1 = nn.Conv2d(1, 2, 3, 1, 2)\n",
    "        self.pool = nn.MaxPool2d(2, 2)\n",
    "        self.BN1 = nn.BatchNorm2d(2)\n",
    "        self.conv2 = nn.Conv2d(2, 16, 3)\n",
    "        self.BN2 = nn.BatchNorm2d(16)\n",
    "        self.conv3 = nn.Conv2d(16, 32, 3)\n",
    "        self.BN3 = nn.BatchNorm2d(32)\n",
    "        self.drop = nn.Dropout2d(p=0.5)\n",
    "        self.fc1 = nn.Linear(32 * 6 * 6, 576)\n",
    "        self.fc2 = nn.Linear(576, 576)\n",
    "        self.fc3 = nn.Linear(576, nclass)\n",
    "\n",
    "    def forward(self, x):\n",
    "        x = self.conv1(x)\n",
    "        x = self.pool(F.selu(x)) # SELU\n",
    "        x = self.BN1(x)\n",
    "        x = self.conv2(x)\n",
    "        x = self.pool(F.selu(x)) # SELU\n",
    "        x = self.BN2(x)\n",
    "        x = self.conv3(x)\n",
    "        x = self.pool(F.selu(x)) # SELU\n",
    "        x = self.BN3(x)\n",
    "        x = x.view(-1, 32 * 6 * 6)\n",
    "        x = self.drop(x)\n",
    "        x = F.selu(self.fc1(x)) # SELU\n",
    "        x = self.drop(x)\n",
    "        x = F.selu(self.fc2(x)) # SELU\n",
    "        x = self.fc3(x)\n",
    "        return x\n",
    "\n",
    "def train(epochs = 20):\n",
    "  \n",
    "  net = Net().float()\n",
    "  net = net.to(device)\n",
    "  criterion = nn.CrossEntropyLoss()\n",
    "  optimizer = optim.SGD(net.parameters(), lr=0.0007, momentum=0.7) # change\n",
    "  train_minibatches = len(trainloader_aug)\n",
    "  tr_loss, v_loss, tr_acc, v_acc = [], [], [], []\n",
    "  counter = 0\n",
    "\n",
    "  for epoch in range(epochs):\n",
    "      net.train()\n",
    "      random.shuffle(trainloader_aug)\n",
    "      running_loss = 0.0\n",
    "      for i, data in enumerate(trainloader_aug, 0):\n",
    "          inputs, labels = data\n",
    "          inputs, labels = inputs.to(device), labels.to(device)\n",
    "          optimizer.zero_grad()\n",
    "          \n",
    "          outputs = net(inputs.float())\n",
    "          \n",
    "          loss = criterion(outputs, labels)\n",
    "          loss.backward()\n",
    "          optimizer.step()\n",
    "\n",
    "          running_loss += loss.item()\n",
    "          if i % train_minibatches == train_minibatches-1:\n",
    "              net.eval()\n",
    "              train_loss, train_acc, val_loss, val_acc = get_stats(net, epoch, criterion, trainloader_aug, testloader_small, running_loss)\n",
    "\n",
    "              tr_loss.append(train_loss)\n",
    "              v_loss.append(val_loss)\n",
    "              tr_acc.append(train_acc)\n",
    "              v_acc.append(val_acc)\n",
    "\n",
    "              running_loss = 0.0\n",
    "  print('Finished Training')\n",
    "  return net, epochs, tr_loss, v_loss, tr_acc, v_acc "
   ]
  },
  {
   "cell_type": "code",
   "execution_count": 17,
   "metadata": {
    "colab": {
     "base_uri": "https://localhost:8080/",
     "height": 1000
    },
    "colab_type": "code",
    "id": "WgLUKZu4mRyE",
    "outputId": "4910539f-716f-4dc5-8dd1-91f3536b8eee"
   },
   "outputs": [
    {
     "name": "stdout",
     "output_type": "stream",
     "text": [
      "1 => train_loss: 2.702, train_accuracy: 21.70, val_loss: 2.441, val_accuracy: 25.75\n",
      "2 => train_loss: 2.520, train_accuracy: 24.84, val_loss: 2.279, val_accuracy: 32.25\n",
      "3 => train_loss: 2.420, train_accuracy: 27.35, val_loss: 2.171, val_accuracy: 34.00\n",
      "4 => train_loss: 2.360, train_accuracy: 29.47, val_loss: 2.091, val_accuracy: 36.75\n",
      "5 => train_loss: 2.308, train_accuracy: 31.02, val_loss: 2.038, val_accuracy: 35.00\n",
      "6 => train_loss: 2.268, train_accuracy: 32.17, val_loss: 1.961, val_accuracy: 37.75\n",
      "7 => train_loss: 2.226, train_accuracy: 33.21, val_loss: 1.916, val_accuracy: 39.50\n",
      "8 => train_loss: 2.203, train_accuracy: 34.05, val_loss: 1.877, val_accuracy: 39.00\n",
      "9 => train_loss: 2.170, train_accuracy: 35.09, val_loss: 1.855, val_accuracy: 39.50\n",
      "10 => train_loss: 2.149, train_accuracy: 36.07, val_loss: 1.809, val_accuracy: 41.25\n",
      "11 => train_loss: 2.130, train_accuracy: 36.96, val_loss: 1.821, val_accuracy: 40.25\n",
      "12 => train_loss: 2.099, train_accuracy: 37.95, val_loss: 1.781, val_accuracy: 41.50\n",
      "13 => train_loss: 2.069, train_accuracy: 39.41, val_loss: 1.740, val_accuracy: 43.25\n",
      "14 => train_loss: 2.048, train_accuracy: 39.94, val_loss: 1.700, val_accuracy: 45.25\n",
      "15 => train_loss: 2.026, train_accuracy: 41.12, val_loss: 1.687, val_accuracy: 45.25\n",
      "16 => train_loss: 2.002, train_accuracy: 42.00, val_loss: 1.646, val_accuracy: 45.50\n",
      "17 => train_loss: 1.989, train_accuracy: 42.89, val_loss: 1.602, val_accuracy: 46.50\n",
      "18 => train_loss: 1.956, train_accuracy: 43.89, val_loss: 1.570, val_accuracy: 49.50\n",
      "19 => train_loss: 1.936, train_accuracy: 44.49, val_loss: 1.536, val_accuracy: 49.50\n",
      "20 => train_loss: 1.909, train_accuracy: 45.28, val_loss: 1.516, val_accuracy: 50.00\n",
      "21 => train_loss: 1.898, train_accuracy: 46.49, val_loss: 1.481, val_accuracy: 52.00\n",
      "22 => train_loss: 1.860, train_accuracy: 46.80, val_loss: 1.456, val_accuracy: 51.75\n",
      "23 => train_loss: 1.854, train_accuracy: 47.41, val_loss: 1.432, val_accuracy: 52.75\n",
      "24 => train_loss: 1.826, train_accuracy: 48.52, val_loss: 1.410, val_accuracy: 53.75\n",
      "25 => train_loss: 1.813, train_accuracy: 47.65, val_loss: 1.430, val_accuracy: 53.75\n",
      "26 => train_loss: 1.796, train_accuracy: 50.03, val_loss: 1.375, val_accuracy: 56.25\n",
      "27 => train_loss: 1.787, train_accuracy: 49.55, val_loss: 1.392, val_accuracy: 55.75\n",
      "28 => train_loss: 1.758, train_accuracy: 50.44, val_loss: 1.359, val_accuracy: 55.25\n",
      "29 => train_loss: 1.748, train_accuracy: 51.16, val_loss: 1.329, val_accuracy: 57.75\n",
      "30 => train_loss: 1.734, train_accuracy: 51.27, val_loss: 1.325, val_accuracy: 58.25\n",
      "31 => train_loss: 1.724, train_accuracy: 52.19, val_loss: 1.293, val_accuracy: 58.50\n",
      "32 => train_loss: 1.707, train_accuracy: 49.99, val_loss: 1.387, val_accuracy: 56.25\n",
      "33 => train_loss: 1.695, train_accuracy: 52.32, val_loss: 1.294, val_accuracy: 59.00\n",
      "34 => train_loss: 1.687, train_accuracy: 52.82, val_loss: 1.295, val_accuracy: 58.25\n",
      "35 => train_loss: 1.684, train_accuracy: 52.43, val_loss: 1.298, val_accuracy: 58.75\n",
      "36 => train_loss: 1.672, train_accuracy: 53.71, val_loss: 1.265, val_accuracy: 59.00\n",
      "37 => train_loss: 1.655, train_accuracy: 54.06, val_loss: 1.266, val_accuracy: 59.00\n",
      "38 => train_loss: 1.643, train_accuracy: 53.66, val_loss: 1.263, val_accuracy: 59.25\n",
      "39 => train_loss: 1.634, train_accuracy: 54.75, val_loss: 1.261, val_accuracy: 60.75\n",
      "40 => train_loss: 1.633, train_accuracy: 55.10, val_loss: 1.240, val_accuracy: 60.75\n",
      "41 => train_loss: 1.617, train_accuracy: 54.58, val_loss: 1.262, val_accuracy: 59.00\n",
      "42 => train_loss: 1.602, train_accuracy: 54.41, val_loss: 1.282, val_accuracy: 57.75\n",
      "43 => train_loss: 1.598, train_accuracy: 55.77, val_loss: 1.209, val_accuracy: 60.75\n",
      "44 => train_loss: 1.595, train_accuracy: 56.56, val_loss: 1.220, val_accuracy: 60.75\n",
      "45 => train_loss: 1.583, train_accuracy: 56.48, val_loss: 1.226, val_accuracy: 60.50\n",
      "46 => train_loss: 1.578, train_accuracy: 56.03, val_loss: 1.230, val_accuracy: 60.75\n",
      "47 => train_loss: 1.569, train_accuracy: 56.84, val_loss: 1.212, val_accuracy: 60.75\n",
      "48 => train_loss: 1.562, train_accuracy: 58.11, val_loss: 1.210, val_accuracy: 61.25\n",
      "49 => train_loss: 1.576, train_accuracy: 58.12, val_loss: 1.197, val_accuracy: 61.75\n",
      "50 => train_loss: 1.560, train_accuracy: 57.61, val_loss: 1.233, val_accuracy: 60.00\n",
      "51 => train_loss: 1.538, train_accuracy: 57.76, val_loss: 1.238, val_accuracy: 60.00\n",
      "52 => train_loss: 1.544, train_accuracy: 58.49, val_loss: 1.208, val_accuracy: 60.75\n",
      "53 => train_loss: 1.533, train_accuracy: 56.88, val_loss: 1.258, val_accuracy: 58.75\n",
      "54 => train_loss: 1.528, train_accuracy: 58.71, val_loss: 1.214, val_accuracy: 60.50\n",
      "55 => train_loss: 1.520, train_accuracy: 58.42, val_loss: 1.190, val_accuracy: 62.00\n",
      "Finished Training\n",
      "Training completed in 2m 15s\n"
     ]
    },
    {
     "data": {
      "image/png": "[encoded data removed]",
      "text/plain": [
       "<Figure size 432x288 with 1 Axes>"
      ]
     },
     "metadata": {
      "tags": []
     },
     "output_type": "display_data"
    },
    {
     "data": {
      "image/png": "[encoded data removed]",
      "text/plain": [
       "<Figure size 432x288 with 1 Axes>"
      ]
     },
     "metadata": {
      "tags": []
     },
     "output_type": "display_data"
    }
   ],
   "source": [
    "# ==========================================\n",
    "#         Optimize/Train Network\n",
    "# ==========================================\n",
    "since = time.time()\n",
    "net, epochs, tr_loss, val_loss, tr_acc, val_acc = train(epochs=55)\n",
    "time_elapsed = time.time() - since\n",
    "print('Training completed in {:.0f}m {:.0f}s'.format(\n",
    "    time_elapsed // 60, time_elapsed % 60))\n",
    "plot(epochs, tr_loss, val_loss, tr_acc, val_acc)"
   ]
  },
  {
   "cell_type": "code",
   "execution_count": 18,
   "metadata": {
    "colab": {
     "base_uri": "https://localhost:8080/",
     "height": 52
    },
    "colab_type": "code",
    "id": "vBI7sY0tOCHR",
    "outputId": "42949891-d41e-4a25-8491-471a6fd02aa6"
   },
   "outputs": [
    {
     "name": "stdout",
     "output_type": "stream",
     "text": [
      "Evaluating completed in 0m 0s\n",
      "Accuracy on test dataset 62.0 %\n"
     ]
    }
   ],
   "source": [
    "# ==========================================\n",
    "#            Evaluating Network\n",
    "# ==========================================\n",
    "since = time.time()\n",
    "\n",
    "acc = evaluate(net, testloader_small)\n",
    "\n",
    "time_elapsed = time.time() - since\n",
    "print('Evaluating completed in {:.0f}m {:.0f}s'.format(\n",
    "    time_elapsed // 60, time_elapsed % 60))\n",
    "\n",
    "print(\"Accuracy on test dataset\", acc, \"%\")\n"
   ]
  },
  {
   "cell_type": "markdown",
   "metadata": {
    "colab_type": "text",
    "id": "VOi_Vm3rWHyY"
   },
   "source": [
    "**Description!**\n",
    "\n",
    "\n",
    "> This one was interesting. This implementation is same as Part 2: 1) random rotate except I changed **activation function to SELU** (Scaled Exponential Linear Units) from RELU and changed **optimizer to SGD** again. Here preferring SELU over RELU was based on, SELUs cannot die whereas RELUs do(vanishing gradient problem). SELU has one more advantage of self normalization that is why I **didn't use batchNorm layers** here. Results show significant improvements not in terms of accuracy though i.e. **62%**. Comparing 1st experiment with this one, here I don't see overfitting yet (from the loss-epoch plots) and tweaking few parameters would definitely show improvement in accuracy too for same number of epochs. This network was trained on **random augmented dataset same as used in experiment 1**. I also tried sigmoid activation function which did not perform well compared to RELU. I believe reasons would be sigmoid's saturation and killing gradients, plus its outputs are not zero centered whereas RELU has its own advantages too (other than RELU is good at what sigmoid is bad at) which are computationally efficient and faster convergence rate.\n",
    "\n"
   ]
  },
  {
   "cell_type": "markdown",
   "metadata": {
    "colab_type": "text",
    "collapsed": true,
    "id": "nBHKIxzAYYM2"
   },
   "source": [
    "## Problem 2: Fine Tuning a Pre-Trained Deep Network\n",
    "{Part 1: 30 points} Our convolutional network to this point isn't \"deep\". Fortunately, the representations learned by deep convolutional networks is that they generalize surprisingly well to other recognition tasks. \n",
    "\n",
    "But how do we use an existing deep network for a new recognition task? Take for instance,  [AlexNet](http://papers.nips.cc/paper/4824-imagenet-classification-with-deep-convolutional-neural-networks) network has 1000 units in the final layer corresponding to 1000 ImageNet categories.\n",
    "\n",
    "**Strategy A**: One could use those 1000 activations as a feature in place of a hand crafted feature such as a bag-of-features representation. You would train a classifier (typically a linear SVM) in that 1000 dimensional feature space. However, those activations are clearly very object specific and may not generalize well to new recognition tasks. It is generally better to use the activations in slightly earlier layers of the network, e.g. the 4096 activations in the last 2nd fully-connected layer. You can often get away with sub-sampling those 4096 activations considerably, e.g. taking only the first 200 activations. \n",
    "\n",
    "**Strategy B**: *Fine-tune* an existing network. In this scenario you take an existing network, replace the final layer (or more) with random weights, and train the entire network again with images and ground truth labels for your recognition task. You are effectively treating the pre-trained deep network as a better initialization than the random weights used when training from scratch. When you don't have enough training data to train a complex network from scratch (e.g. with the 16 classes) this is an attractive option. Fine-tuning can work far better than Strategy A of taking the activations directly from an pre-trained CNN. For example, in [this paper](http://www.cc.gatech.edu/~hays/papers/deep_geo.pdf) from CVPR 2015, there wasn't enough data to train a deep network from scratch, but fine tuning led to 4 times higher accuracy than using off-the-shelf networks directly.\n",
    "\n",
    "You are required to implement **Strategy B** to fine-tune a pre-trained **AlexNet** for this scene classification task. You should be able to achieve performance of 85% approximately. It takes roughly 35~40 minutes to train 20 epoches with AlexNet.\n",
    "\n",
    "Please provide detailed descriptions of:<br>\n",
    "(1) which layers of AlexNet have been replaced<br>\n",
    "(2) the architecture of the new layers added including activation methods (same as problem 1)<br>\n",
    "(3) the final accuracy on test set along with time consumption for both training and testing <br>\n",
    "\n",
    "{Part 2: 20 points} Implement Strategy A where you use the activations of the pre-trained network as features to train one-vs-all SVMs for your scene classification task. Report the final accuracy on test set along with time consumption for both training and testing.\n",
    "\n",
    "{Bonus: 10 points} Bonus will be given to those who fine-tune the [VGG network](https://pytorch.org/docs/stable/_modules/torchvision/models/vgg.html) [paper](https://arxiv.org/pdf/1409.1556.pdf) and compare performance with AlexNet. Explain why VGG performed better or worse.\n",
    "\n",
    "**Hints**:\n",
    "- Many pre-trained models are available in PyTorch at [here](http://pytorch.org/docs/master/torchvision/models.html).\n",
    "- For fine-tuning pretrained network using PyTorch, please read this [tutorial](http://pytorch.org/tutorials/beginner/transfer_learning_tutorial.html)."
   ]
  },
  {
   "cell_type": "code",
   "execution_count": 0,
   "metadata": {
    "colab": {
     "base_uri": "https://localhost:8080/",
     "height": 721
    },
    "colab_type": "code",
    "id": "VLG3WtEmYYM3",
    "outputId": "e03cd307-0085-4b4c-88fb-7f39a6662023"
   },
   "outputs": [
    {
     "name": "stdout",
     "output_type": "stream",
     "text": [
      "Loading images from class: 0\n",
      "Loading images from class: 1\n",
      "Loading images from class: 2\n",
      "Loading images from class: 3\n",
      "Loading images from class: 4\n",
      "Loading images from class: 5\n",
      "Loading images from class: 6\n",
      "Loading images from class: 7\n",
      "Loading images from class: 8\n",
      "Loading images from class: 9\n",
      "Loading images from class: 10\n",
      "Loading images from class: 11\n",
      "Loading images from class: 12\n",
      "Loading images from class: 13\n",
      "Loading images from class: 14\n",
      "Loading images from class: 15\n",
      "Loading images from class: 16\n",
      "2400\n",
      "50\n",
      "Finish loading 48 minibatches(=50) of training samples.\n",
      "Loading images from class: 0\n",
      "Loading images from class: 1\n",
      "Loading images from class: 2\n",
      "Loading images from class: 3\n",
      "Loading images from class: 4\n",
      "Loading images from class: 5\n",
      "Loading images from class: 6\n",
      "Loading images from class: 7\n",
      "Loading images from class: 8\n",
      "Loading images from class: 9\n",
      "Loading images from class: 10\n",
      "Loading images from class: 11\n",
      "Loading images from class: 12\n",
      "Loading images from class: 13\n",
      "Loading images from class: 14\n",
      "Loading images from class: 15\n",
      "Loading images from class: 16\n",
      "400\n",
      "50\n",
      "Finish loading 8 minibatches(=50) of testing samples.\n"
     ]
    }
   ],
   "source": [
    "# reload data with a larger size\n",
    "img_size = (224, 224)\n",
    "batch_num = 50 # training sample number per batch \n",
    "\n",
    "# load training dataset\n",
    "trainloader_large = list(load_dataset('./data/train/', img_size, batch_num=batch_num, shuffle=True, \n",
    "                                      augment=False, is_color=True, zero_centered=True))\n",
    "train_num = len(trainloader_large)\n",
    "print(\"Finish loading %d minibatches(=%d) of training samples.\" % (train_num, batch_num))\n",
    "\n",
    "# load testing dataset\n",
    "testloader_large = list(load_dataset('./data/test/', img_size, num_per_class=50, batch_num=batch_num, is_color=True, zero_centered=True))\n",
    "test_num = len(testloader_large)\n",
    "print(\"Finish loading %d minibatches(=%d) of testing samples.\" % (test_num, batch_num))"
   ]
  },
  {
   "cell_type": "markdown",
   "metadata": {
    "colab_type": "text",
    "id": "xyFqwL7ahqnp"
   },
   "source": [
    "### **Part 1 Strategy B: Fine-Tune a pre-trained AlexNet (85.5% accuracy, 10 epochs, 27 seconds)**"
   ]
  },
  {
   "cell_type": "code",
   "execution_count": 0,
   "metadata": {
    "colab": {
     "base_uri": "https://localhost:8080/",
     "height": 492
    },
    "colab_type": "code",
    "id": "F-4aYS_m72hm",
    "outputId": "385d0167-ab49-42d7-8273-a2489482de65"
   },
   "outputs": [
    {
     "name": "stdout",
     "output_type": "stream",
     "text": [
      "AlexNet(\n",
      "  (features): Sequential(\n",
      "    (0): Conv2d(3, 64, kernel_size=(11, 11), stride=(4, 4), padding=(2, 2))\n",
      "    (1): ReLU(inplace=True)\n",
      "    (2): MaxPool2d(kernel_size=3, stride=2, padding=0, dilation=1, ceil_mode=False)\n",
      "    (3): Conv2d(64, 192, kernel_size=(5, 5), stride=(1, 1), padding=(2, 2))\n",
      "    (4): ReLU(inplace=True)\n",
      "    (5): MaxPool2d(kernel_size=3, stride=2, padding=0, dilation=1, ceil_mode=False)\n",
      "    (6): Conv2d(192, 384, kernel_size=(3, 3), stride=(1, 1), padding=(1, 1))\n",
      "    (7): ReLU(inplace=True)\n",
      "    (8): Conv2d(384, 256, kernel_size=(3, 3), stride=(1, 1), padding=(1, 1))\n",
      "    (9): ReLU(inplace=True)\n",
      "    (10): Conv2d(256, 256, kernel_size=(3, 3), stride=(1, 1), padding=(1, 1))\n",
      "    (11): ReLU(inplace=True)\n",
      "    (12): MaxPool2d(kernel_size=3, stride=2, padding=0, dilation=1, ceil_mode=False)\n",
      "  )\n",
      "  (avgpool): AdaptiveAvgPool2d(output_size=(6, 6))\n",
      "  (classifier): Sequential(\n",
      "    (0): Dropout(p=0.5, inplace=False)\n",
      "    (1): Linear(in_features=9216, out_features=4096, bias=True)\n",
      "    (2): ReLU(inplace=True)\n",
      "    (3): Dropout(p=0.5, inplace=False)\n",
      "    (4): Linear(in_features=4096, out_features=4096, bias=True)\n",
      "    (5): ReLU(inplace=True)\n",
      "    (6): Linear(in_features=4096, out_features=1000, bias=True)\n",
      "  )\n",
      ")\n"
     ]
    }
   ],
   "source": [
    "from torchvision import models\n",
    "import torch.optim as optim\n",
    "import time, copy\n",
    "nclass = 16\n",
    "\n",
    "alexnet = models.alexnet(pretrained=True)\n",
    "print(alexnet)\n",
    "\n",
    "\n",
    "for param in alexnet.features.parameters():\n",
    "    param.requires_grad = False\n",
    "\n",
    "del alexnet.classifier[5:]\n",
    "num_ftrs = alexnet.classifier[-1].in_features\n",
    "alexnet.classifier[-1] = nn.Linear(num_ftrs, nclass)"
   ]
  },
  {
   "cell_type": "code",
   "execution_count": 0,
   "metadata": {
    "colab": {
     "base_uri": "https://localhost:8080/",
     "height": 87
    },
    "colab_type": "code",
    "id": "yRSzD6LoU9Sd",
    "outputId": "a13241d3-5e4d-4ffa-fb4e-4838a4e6acfd"
   },
   "outputs": [
    {
     "name": "stdout",
     "output_type": "stream",
     "text": [
      "classifier.1.weight True\n",
      "classifier.1.bias True\n",
      "classifier.4.weight True\n",
      "classifier.4.bias True\n"
     ]
    }
   ],
   "source": [
    "for name, param in alexnet.named_parameters():\n",
    "    if param.requires_grad:\n",
    "        print(name, param.requires_grad)"
   ]
  },
  {
   "cell_type": "code",
   "execution_count": 0,
   "metadata": {
    "colab": {
     "base_uri": "https://localhost:8080/",
     "height": 457
    },
    "colab_type": "code",
    "id": "dTJ5B7ysUqYH",
    "outputId": "4670dcc3-1386-4040-b5ef-834991894a41"
   },
   "outputs": [
    {
     "data": {
      "text/plain": [
       "AlexNet(\n",
       "  (features): Sequential(\n",
       "    (0): Conv2d(3, 64, kernel_size=(11, 11), stride=(4, 4), padding=(2, 2))\n",
       "    (1): ReLU(inplace=True)\n",
       "    (2): MaxPool2d(kernel_size=3, stride=2, padding=0, dilation=1, ceil_mode=False)\n",
       "    (3): Conv2d(64, 192, kernel_size=(5, 5), stride=(1, 1), padding=(2, 2))\n",
       "    (4): ReLU(inplace=True)\n",
       "    (5): MaxPool2d(kernel_size=3, stride=2, padding=0, dilation=1, ceil_mode=False)\n",
       "    (6): Conv2d(192, 384, kernel_size=(3, 3), stride=(1, 1), padding=(1, 1))\n",
       "    (7): ReLU(inplace=True)\n",
       "    (8): Conv2d(384, 256, kernel_size=(3, 3), stride=(1, 1), padding=(1, 1))\n",
       "    (9): ReLU(inplace=True)\n",
       "    (10): Conv2d(256, 256, kernel_size=(3, 3), stride=(1, 1), padding=(1, 1))\n",
       "    (11): ReLU(inplace=True)\n",
       "    (12): MaxPool2d(kernel_size=3, stride=2, padding=0, dilation=1, ceil_mode=False)\n",
       "  )\n",
       "  (avgpool): AdaptiveAvgPool2d(output_size=(6, 6))\n",
       "  (classifier): Sequential(\n",
       "    (0): Dropout(p=0.5, inplace=False)\n",
       "    (1): Linear(in_features=9216, out_features=4096, bias=True)\n",
       "    (2): ReLU(inplace=True)\n",
       "    (3): Dropout(p=0.5, inplace=False)\n",
       "    (4): Linear(in_features=4096, out_features=16, bias=True)\n",
       "  )\n",
       ")"
      ]
     },
     "execution_count": 36,
     "metadata": {
      "tags": []
     },
     "output_type": "execute_result"
    }
   ],
   "source": [
    "alexnet"
   ]
  },
  {
   "cell_type": "code",
   "execution_count": 0,
   "metadata": {
    "colab": {},
    "colab_type": "code",
    "id": "GmYGdn8A775M"
   },
   "outputs": [],
   "source": [
    "def train_model(net, epochs=10):\n",
    "    net = net.to(device)\n",
    "    criterion = nn.CrossEntropyLoss()\n",
    "    optimizer = optim.SGD(net.parameters(), lr=0.01, momentum=0.9)\n",
    "    scheduler = optim.lr_scheduler.StepLR(optimizer, step_size=7, gamma=0.1)\n",
    "    \n",
    "    since = time.time()\n",
    "\n",
    "    import gc\n",
    "    gc.collect()\n",
    "    train_minibatches = len(trainloader_large)\n",
    "    tr_loss, v_loss, tr_acc, v_acc = [], [], [], []\n",
    "    for epoch in range(epochs):\n",
    "      random.shuffle(trainloader_large)\n",
    "      running_loss = 0.0\n",
    "      scheduler.step()\n",
    "      net.train()\n",
    "      for i, data in enumerate(trainloader_large, 0):\n",
    "          inputs, labels = data\n",
    "          inputs, labels = inputs.to(device), labels.to(device)\n",
    "          optimizer.zero_grad()\n",
    "          \n",
    "          with torch.set_grad_enabled(True):\n",
    "                outputs = net(inputs.float())\n",
    "          \n",
    "                loss = criterion(outputs, labels)\n",
    "                loss.backward()\n",
    "                optimizer.step()\n",
    "                # scheduler.step()\n",
    "                running_loss += loss.item()\n",
    "                if i % train_minibatches == train_minibatches-1:\n",
    "                    net.eval()\n",
    "                    train_loss, train_acc, val_loss, val_acc = get_stats(net, epoch, criterion, trainloader_large, testloader_large, running_loss)\n",
    "\n",
    "                    tr_loss.append(train_loss)\n",
    "                    v_loss.append(val_loss)\n",
    "                    tr_acc.append(train_acc)\n",
    "                    v_acc.append(val_acc)\n",
    "\n",
    "                    running_loss = 0.0\n",
    "\n",
    "    \n",
    "    time_elapsed = time.time() - since\n",
    "    print('Training complete in {:.0f}m {:.0f}s'.format(\n",
    "        time_elapsed // 60, time_elapsed % 60))\n",
    "\n",
    "    return net, epochs, tr_loss, v_loss, tr_acc, v_acc"
   ]
  },
  {
   "cell_type": "code",
   "execution_count": 0,
   "metadata": {
    "colab": {
     "base_uri": "https://localhost:8080/",
     "height": 266
    },
    "colab_type": "code",
    "id": "btOal_ampEnm",
    "outputId": "703730e1-c2ed-4ded-b3d5-bd5f5357552b"
   },
   "outputs": [
    {
     "name": "stderr",
     "output_type": "stream",
     "text": [
      "/usr/local/lib/python3.6/dist-packages/torch/optim/lr_scheduler.py:100: UserWarning: Detected call of `lr_scheduler.step()` before `optimizer.step()`. In PyTorch 1.1.0 and later, you should call them in the opposite order: `optimizer.step()` before `lr_scheduler.step()`.  Failure to do this will result in PyTorch skipping the first value of the learning rate schedule.See more details at https://pytorch.org/docs/stable/optim.html#how-to-adjust-learning-rate\n",
      "  \"https://pytorch.org/docs/stable/optim.html#how-to-adjust-learning-rate\", UserWarning)\n"
     ]
    },
    {
     "name": "stdout",
     "output_type": "stream",
     "text": [
      "1 => train_loss: 0.256, train_accuracy: 98.62, val_loss: 0.982, val_accuracy: 83.00\n",
      "2 => train_loss: 0.588, train_accuracy: 95.92, val_loss: 1.235, val_accuracy: 79.00\n",
      "3 => train_loss: 0.811, train_accuracy: 98.04, val_loss: 1.338, val_accuracy: 81.00\n",
      "4 => train_loss: 0.603, train_accuracy: 98.58, val_loss: 1.066, val_accuracy: 85.50\n",
      "5 => train_loss: 0.675, train_accuracy: 99.12, val_loss: 1.270, val_accuracy: 81.00\n",
      "6 => train_loss: 0.452, train_accuracy: 98.96, val_loss: 1.451, val_accuracy: 81.75\n",
      "7 => train_loss: 0.286, train_accuracy: 99.83, val_loss: 1.025, val_accuracy: 82.75\n",
      "8 => train_loss: 0.184, train_accuracy: 99.83, val_loss: 0.881, val_accuracy: 84.50\n",
      "9 => train_loss: 0.180, train_accuracy: 99.88, val_loss: 0.853, val_accuracy: 85.00\n",
      "10 => train_loss: 0.130, train_accuracy: 100.00, val_loss: 0.757, val_accuracy: 85.50\n",
      "Training complete in 0m 27s\n"
     ]
    }
   ],
   "source": [
    "# ==========================================\n",
    "#       Fine-Tune Pretrained Network\n",
    "# ==========================================\n",
    "\n",
    "alexnet_trained, epochs, tr_loss, val_loss, tr_acc, val_acc = train_model(alexnet, epochs=10)"
   ]
  },
  {
   "cell_type": "code",
   "execution_count": 0,
   "metadata": {
    "colab": {
     "base_uri": "https://localhost:8080/",
     "height": 541
    },
    "colab_type": "code",
    "id": "m2cy_4TCw4JA",
    "outputId": "508876ee-270b-4107-a413-7d1a71f228c1"
   },
   "outputs": [
    {
     "data": {
      "image/png": "[encoded data removed]",
      "text/plain": [
       "<Figure size 432x288 with 1 Axes>"
      ]
     },
     "metadata": {
      "tags": []
     },
     "output_type": "display_data"
    },
    {
     "data": {
      "image/png": "[encoded data removed]",
      "text/plain": [
       "<Figure size 432x288 with 1 Axes>"
      ]
     },
     "metadata": {
      "tags": []
     },
     "output_type": "display_data"
    }
   ],
   "source": [
    "plot(epochs, tr_loss, val_loss, tr_acc, val_acc)"
   ]
  },
  {
   "cell_type": "code",
   "execution_count": 0,
   "metadata": {
    "colab": {
     "base_uri": "https://localhost:8080/",
     "height": 52
    },
    "colab_type": "code",
    "id": "180m6rhAONZF",
    "outputId": "c8603395-6d2c-4bc9-dfa6-75f963b1387b"
   },
   "outputs": [
    {
     "name": "stdout",
     "output_type": "stream",
     "text": [
      "Training complete in 0m 0s\n",
      "Accuracy on test dataset 85.5 %\n"
     ]
    }
   ],
   "source": [
    "# ==========================================\n",
    "#            Evaluating Network\n",
    "# ==========================================\n",
    "since = time.time()\n",
    "\n",
    "acc = evaluate(alexnet_trained, testloader_large)\n",
    "\n",
    "time_elapsed = time.time() - since\n",
    "print('Training complete in {:.0f}m {:.0f}s'.format(\n",
    "    time_elapsed // 60, time_elapsed % 60))\n",
    "\n",
    "print(\"Accuracy on test dataset\", acc, \"%\")\n"
   ]
  },
  {
   "cell_type": "markdown",
   "metadata": {
    "colab_type": "text",
    "id": "kMtFdhd7NJGR"
   },
   "source": [
    "**Description!**\n",
    "\n",
    "> Alexnet being a large network and trained on large dataset have highly good feature extracter layers so they were freezed in the begining. I had an instinct that if I freeze all feature extracter layers (as believed) and train the classifier layers on the given small dataset, it should perform well. However, having a small dataset, and having 3 FC layers with higher number of features it would be prone to overfitting. So I **removed the last FC layer**, changed **output features of second last layer to number of class (=16)** and kept third last layer (first in classifier layers) untouched. **freezed Alexnet initial layers** (already trained probably feature extracting layers) and **2 trainable layers of Alexnet classifier** with **relu activation layers** (by default from alexnet) were trained on **training dataset (zero centered, no augmentation)** for **10 epochs** (taking **27 seconds**) and achieved **85.5%** accuracy on given test dataset (taking **0 seconds**).\n",
    "\n",
    "\n",
    "\n",
    "\n"
   ]
  },
  {
   "cell_type": "markdown",
   "metadata": {
    "colab_type": "text",
    "id": "O_YgraG4h0lo"
   },
   "source": [
    "### **Part 2 Strategy A:  Train one-vs-all SVMs (75.75% accuracy, 36 seconds)**"
   ]
  },
  {
   "cell_type": "code",
   "execution_count": 0,
   "metadata": {
    "colab": {},
    "colab_type": "code",
    "id": "Oeg9aI_kqBBn"
   },
   "outputs": [],
   "source": [
    "alexnet = models.alexnet(pretrained=True)\n",
    "# alexnet = alexnet.to(device)\n",
    "del alexnet.classifier[-1]\n",
    "\n",
    "features = 1200\n",
    "\n",
    "trainlarge_imgs = []\n",
    "trainlarge_labels = []\n"
   ]
  },
  {
   "cell_type": "code",
   "execution_count": 0,
   "metadata": {
    "colab": {
     "base_uri": "https://localhost:8080/",
     "height": 34
    },
    "colab_type": "code",
    "id": "cBieD57JqBBs",
    "outputId": "c8d3e591-5204-424a-8814-47ebd2a6927d"
   },
   "outputs": [
    {
     "name": "stdout",
     "output_type": "stream",
     "text": [
      "Training completed in 0m 36s\n"
     ]
    }
   ],
   "source": [
    "# ==========================================\n",
    "#         Optimize/Train Model\n",
    "# ==========================================\n",
    "since = time.time()\n",
    "\n",
    "for data, labels in trainloader_large:\n",
    "    # data, labels = data.to(device), labels.to(device)\n",
    "    trainlarge_imgs.extend(alexnet(data.float())[:, :features].detach().numpy())\n",
    "    trainlarge_labels.extend(labels.detach().numpy())\n",
    "\n",
    "trainlarge_imgs = np.vstack(trainlarge_imgs)\n",
    "trainlarge_labels = np.hstack(trainlarge_labels)\n",
    "\n",
    "svc = LinearSVC()\n",
    "svc.fit(trainlarge_imgs, trainlarge_labels)\n",
    "\n",
    "time_elapsed = time.time() - since\n",
    "print('Training completed in {:.0f}m {:.0f}s'.format(\n",
    "    time_elapsed // 60, time_elapsed % 60))"
   ]
  },
  {
   "cell_type": "code",
   "execution_count": 0,
   "metadata": {
    "colab": {
     "base_uri": "https://localhost:8080/",
     "height": 52
    },
    "colab_type": "code",
    "id": "V5jX1AniqBBw",
    "outputId": "9352987d-0a8a-4e08-f876-6b8fe3f550d2"
   },
   "outputs": [
    {
     "name": "stdout",
     "output_type": "stream",
     "text": [
      "Evaluation completed in 0m 6s\n",
      "Accuracy on test dataset 75.75 %\n"
     ]
    }
   ],
   "source": [
    "# ==========================================\n",
    "#            Evaluating Model\n",
    "# ==========================================\n",
    "\n",
    "since = time.time()\n",
    "\n",
    "correct = 0\n",
    "total = 0\n",
    "for data, labels in testloader_large:\n",
    "    predicted = svc.predict(alexnet(data.float())[:, :features].detach().numpy())\n",
    "    correct += np.sum(predicted == labels.detach().numpy())\n",
    "    total += len(labels)\n",
    "\n",
    "time_elapsed = time.time() - since\n",
    "print('Evaluation completed in {:.0f}m {:.0f}s'.format(\n",
    "    time_elapsed // 60, time_elapsed % 60))\n",
    "\n",
    "# accuracy ratio\n",
    "acc = 100 * correct / total\n",
    "print(\"Accuracy on test dataset\", acc, \"%\")"
   ]
  },
  {
   "cell_type": "markdown",
   "metadata": {
    "colab_type": "text",
    "id": "Re_0_0DA746s"
   },
   "source": [
    "Training Time: **36 seconds**, Testing time: **6 seconds**, Accuracy on Test Dataset: **75.75%**"
   ]
  },
  {
   "cell_type": "markdown",
   "metadata": {
    "colab_type": "text",
    "id": "dALMLOHEvDUW"
   },
   "source": [
    "### **Bonus: Fine-Tune the VGG Network (91.25% accuracy, 4 epochs, 1 minutes 8 seconds)**"
   ]
  },
  {
   "cell_type": "code",
   "execution_count": 0,
   "metadata": {
    "colab": {},
    "colab_type": "code",
    "id": "tMXAhSCfvHXz"
   },
   "outputs": [],
   "source": [
    "nclass = 16\n",
    "\n",
    "vgg16 = models.vgg16(pretrained=True)\n",
    "vgg16 = vgg16.to(device)\n",
    "for param in vgg16.features.parameters():\n",
    "    param.requires_grad = False\n",
    "\n",
    "del vgg16.classifier[4:]\n",
    "num_ftrs = vgg16.classifier[-1].in_features\n",
    "vgg16.classifier[-1] = nn.Linear(num_ftrs, nclass)"
   ]
  },
  {
   "cell_type": "code",
   "execution_count": 0,
   "metadata": {
    "colab": {
     "base_uri": "https://localhost:8080/",
     "height": 756
    },
    "colab_type": "code",
    "id": "So-Se04C7Tej",
    "outputId": "6289b073-d4e8-47a4-8145-e8a7837c2493"
   },
   "outputs": [
    {
     "data": {
      "text/plain": [
       "VGG(\n",
       "  (features): Sequential(\n",
       "    (0): Conv2d(3, 64, kernel_size=(3, 3), stride=(1, 1), padding=(1, 1))\n",
       "    (1): ReLU(inplace=True)\n",
       "    (2): Conv2d(64, 64, kernel_size=(3, 3), stride=(1, 1), padding=(1, 1))\n",
       "    (3): ReLU(inplace=True)\n",
       "    (4): MaxPool2d(kernel_size=2, stride=2, padding=0, dilation=1, ceil_mode=False)\n",
       "    (5): Conv2d(64, 128, kernel_size=(3, 3), stride=(1, 1), padding=(1, 1))\n",
       "    (6): ReLU(inplace=True)\n",
       "    (7): Conv2d(128, 128, kernel_size=(3, 3), stride=(1, 1), padding=(1, 1))\n",
       "    (8): ReLU(inplace=True)\n",
       "    (9): MaxPool2d(kernel_size=2, stride=2, padding=0, dilation=1, ceil_mode=False)\n",
       "    (10): Conv2d(128, 256, kernel_size=(3, 3), stride=(1, 1), padding=(1, 1))\n",
       "    (11): ReLU(inplace=True)\n",
       "    (12): Conv2d(256, 256, kernel_size=(3, 3), stride=(1, 1), padding=(1, 1))\n",
       "    (13): ReLU(inplace=True)\n",
       "    (14): Conv2d(256, 256, kernel_size=(3, 3), stride=(1, 1), padding=(1, 1))\n",
       "    (15): ReLU(inplace=True)\n",
       "    (16): MaxPool2d(kernel_size=2, stride=2, padding=0, dilation=1, ceil_mode=False)\n",
       "    (17): Conv2d(256, 512, kernel_size=(3, 3), stride=(1, 1), padding=(1, 1))\n",
       "    (18): ReLU(inplace=True)\n",
       "    (19): Conv2d(512, 512, kernel_size=(3, 3), stride=(1, 1), padding=(1, 1))\n",
       "    (20): ReLU(inplace=True)\n",
       "    (21): Conv2d(512, 512, kernel_size=(3, 3), stride=(1, 1), padding=(1, 1))\n",
       "    (22): ReLU(inplace=True)\n",
       "    (23): MaxPool2d(kernel_size=2, stride=2, padding=0, dilation=1, ceil_mode=False)\n",
       "    (24): Conv2d(512, 512, kernel_size=(3, 3), stride=(1, 1), padding=(1, 1))\n",
       "    (25): ReLU(inplace=True)\n",
       "    (26): Conv2d(512, 512, kernel_size=(3, 3), stride=(1, 1), padding=(1, 1))\n",
       "    (27): ReLU(inplace=True)\n",
       "    (28): Conv2d(512, 512, kernel_size=(3, 3), stride=(1, 1), padding=(1, 1))\n",
       "    (29): ReLU(inplace=True)\n",
       "    (30): MaxPool2d(kernel_size=2, stride=2, padding=0, dilation=1, ceil_mode=False)\n",
       "  )\n",
       "  (avgpool): AdaptiveAvgPool2d(output_size=(7, 7))\n",
       "  (classifier): Sequential(\n",
       "    (0): Linear(in_features=25088, out_features=4096, bias=True)\n",
       "    (1): ReLU(inplace=True)\n",
       "    (2): Dropout(p=0.5, inplace=False)\n",
       "    (3): Linear(in_features=4096, out_features=16, bias=True)\n",
       "  )\n",
       ")"
      ]
     },
     "execution_count": 49,
     "metadata": {
      "tags": []
     },
     "output_type": "execute_result"
    }
   ],
   "source": [
    "vgg16"
   ]
  },
  {
   "cell_type": "code",
   "execution_count": 0,
   "metadata": {
    "colab": {
     "base_uri": "https://localhost:8080/",
     "height": 160
    },
    "colab_type": "code",
    "id": "0Uj6XfkUw1X9",
    "outputId": "fc150b7f-2d0b-4b08-9af8-717f7f8dea3e"
   },
   "outputs": [
    {
     "name": "stderr",
     "output_type": "stream",
     "text": [
      "/usr/local/lib/python3.6/dist-packages/torch/optim/lr_scheduler.py:100: UserWarning: Detected call of `lr_scheduler.step()` before `optimizer.step()`. In PyTorch 1.1.0 and later, you should call them in the opposite order: `optimizer.step()` before `lr_scheduler.step()`.  Failure to do this will result in PyTorch skipping the first value of the learning rate schedule.See more details at https://pytorch.org/docs/stable/optim.html#how-to-adjust-learning-rate\n",
      "  \"https://pytorch.org/docs/stable/optim.html#how-to-adjust-learning-rate\", UserWarning)\n"
     ]
    },
    {
     "name": "stdout",
     "output_type": "stream",
     "text": [
      "1 => train_loss: 0.789, train_accuracy: 93.54, val_loss: 0.498, val_accuracy: 86.75\n",
      "2 => train_loss: 0.394, train_accuracy: 97.42, val_loss: 0.561, val_accuracy: 88.00\n",
      "3 => train_loss: 0.301, train_accuracy: 98.46, val_loss: 0.590, val_accuracy: 87.25\n",
      "4 => train_loss: 0.084, train_accuracy: 99.46, val_loss: 0.492, val_accuracy: 91.25\n",
      "Training complete in 1m 8s\n"
     ]
    }
   ],
   "source": [
    "# ==========================================\n",
    "#       Fine-Tune Pretrained Network\n",
    "# ==========================================\n",
    "\n",
    "vgg16_trained, epochs, tr_loss, val_loss, tr_acc, val_acc = train_model(vgg16, epochs=4)\n"
   ]
  },
  {
   "cell_type": "code",
   "execution_count": 0,
   "metadata": {
    "colab": {
     "base_uri": "https://localhost:8080/",
     "height": 544
    },
    "colab_type": "code",
    "id": "KENT6Nj_PlVL",
    "outputId": "d56c60c5-80ec-4d5d-80ae-62b15048817a"
   },
   "outputs": [
    {
     "data": {
      "image/png": "[encoded data removed]",
      "text/plain": [
       "<Figure size 432x288 with 1 Axes>"
      ]
     },
     "metadata": {
      "tags": []
     },
     "output_type": "display_data"
    },
    {
     "data": {
      "image/png": "[encoded data removed]",
      "text/plain": [
       "<Figure size 432x288 with 1 Axes>"
      ]
     },
     "metadata": {
      "tags": []
     },
     "output_type": "display_data"
    }
   ],
   "source": [
    "plot(epochs, tr_loss, val_loss, tr_acc, val_acc)"
   ]
  },
  {
   "cell_type": "code",
   "execution_count": 0,
   "metadata": {
    "colab": {
     "base_uri": "https://localhost:8080/",
     "height": 52
    },
    "colab_type": "code",
    "id": "C1iPJqBzOb-q",
    "outputId": "0e44e635-a55e-419f-f772-d2a1bd6dbe47"
   },
   "outputs": [
    {
     "name": "stdout",
     "output_type": "stream",
     "text": [
      "Evaluating complete in 0m 1s\n",
      "Accuracy on test dataset 91.25 %\n"
     ]
    }
   ],
   "source": [
    "# ==========================================\n",
    "#            Evaluating Network\n",
    "# ==========================================\n",
    "since = time.time()\n",
    "\n",
    "acc = evaluate(vgg16_trained, testloader_large)\n",
    "\n",
    "time_elapsed = time.time() - since\n",
    "print('Evaluating complete in {:.0f}m {:.0f}s'.format(\n",
    "    time_elapsed // 60, time_elapsed % 60))\n",
    "\n",
    "print(\"Accuracy on test dataset\", acc, \"%\")\n"
   ]
  },
  {
   "cell_type": "markdown",
   "metadata": {
    "colab_type": "text",
    "id": "6Oq4RLwLVI1F"
   },
   "source": [
    "VGG(**91.25%**) performed better than Alexnet(**85.5%**) trained on same dataset with just a change of network. Because VGG is deeper than Alexnet: more features and a heavy network, in addition VGG did not use larger kernel sizes (11) in initial layers which Alexnet did so different receptive field and more robust to overfitting, which I consider one of the points where VGG got a lead."
   ]
  },
  {
   "cell_type": "markdown",
   "metadata": {
    "colab_type": "text",
    "id": "AYJOi8QYYYNG"
   },
   "source": [
    "<!--Write your report here in markdown or html-->\n"
   ]
  }
 ],
 "metadata": {
  "accelerator": "GPU",
  "anaconda-cloud": {},
  "colab": {
   "collapsed_sections": [],
   "name": "Shah_Karan_112715555_hw4.ipynb",
   "provenance": []
  },
  "kernelspec": {
   "display_name": "Python 3",
   "language": "python",
   "name": "python3"
  },
  "language_info": {
   "codemirror_mode": {
    "name": "ipython",
    "version": 3
   },
   "file_extension": ".py",
   "mimetype": "text/x-python",
   "name": "python",
   "nbconvert_exporter": "python",
   "pygments_lexer": "ipython3",
   "version": "3.6.7"
  }
 },
 "nbformat": 4,
 "nbformat_minor": 1
}
